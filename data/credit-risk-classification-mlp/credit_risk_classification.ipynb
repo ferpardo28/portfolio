{
  "cells": [
    {
      "cell_type": "markdown",
      "metadata": {
        "id": "dBbWMn9ebmi8"
      },
      "source": [
        "#**Credit Risk Classification Using MLP and Imbalanced Learning Techniques**\n",
        "This notebook applies several machine learning classifiers to predict credit risk using the South German Credit dataset. The project focuses on dealing with class imbalance by using advanced resampling techniques such as SMOTETomek and KMeansSMOTE, and evaluates performance using metrics suited for imbalanced datasets: Recall, Precision, F1-score, and Geometric Mean (G-Mean).\n",
        "\n",
        "The best model was a Multilayer Perceptron (MLP) classifier, which achieved the highest F1-score while maintaining a balance between identifying high-risk clients and avoiding excessive rejection of low-risk ones. The results were confirmed using cross-validation and evaluation plots (ROC and Precision-Recall curves).\n",
        "\n",
        "This notebook corresponds to the Modeling stage of the CRISP-DM process and was developed as part of a graduate course on Artificial Intelligence and Machine Learning.\n"
      ]
    },
    {
      "cell_type": "markdown",
      "metadata": {
        "id": "a08Di3GjkL1Y"
      },
      "source": [
        "#Environment Setup and Package Imports"
      ]
    },
    {
      "cell_type": "code",
      "execution_count": 164,
      "metadata": {
        "id": "6VGEpE4SblfD"
      },
      "outputs": [],
      "source": [
        "\n",
        "\n",
        "import pandas as pd\n",
        "import numpy as np\n",
        "import matplotlib.pyplot as plt\n",
        "import matplotlib\n",
        "from pandas import read_csv\n",
        "from sklearn.model_selection import train_test_split\n",
        "import seaborn as sns\n",
        "import sklearn\n",
        "import xgboost\n",
        "from xgboost import XGBClassifier\n",
        "from sklearn import metrics\n",
        "from sklearn.neural_network import MLPRegressor\n",
        "from sklearn.datasets import make_regression\n",
        "from sklearn.metrics import mean_squared_error, mean_absolute_percentage_error\n",
        "from sklearn.neural_network import MLPClassifier\n",
        "from sklearn import svm\n",
        "from imblearn.over_sampling import KMeansSMOTE\n",
        "from sklearn.inspection import permutation_importance\n",
        "from imblearn.under_sampling import RandomUnderSampler\n",
        "\n",
        "from sklearn.dummy import DummyClassifier\n",
        "from sklearn.linear_model import LogisticRegression\n",
        "from sklearn.neighbors import KNeighborsClassifier\n",
        "from sklearn.model_selection import RepeatedStratifiedKFold\n",
        "from sklearn.model_selection import cross_val_score\n",
        "from sklearn.metrics import make_scorer\n",
        "from imblearn.metrics import geometric_mean_score\n",
        "from numpy import mean\n",
        "from numpy import std\n",
        "from sklearn.model_selection import cross_validate\n",
        "from sklearn.pipeline import Pipeline\n",
        "from sklearn.impute import SimpleImputer\n",
        "from sklearn.preprocessing import StandardScaler\n",
        "from sklearn.compose import ColumnTransformer\n",
        "from sklearn.metrics import RocCurveDisplay\n",
        "from sklearn.metrics import PrecisionRecallDisplay\n",
        "from sklearn.model_selection import GridSearchCV\n",
        "from imblearn.over_sampling import SMOTE\n",
        "from imblearn.pipeline import Pipeline as ImbPipeline\n",
        "from imblearn.combine import SMOTETomek\n",
        "from imblearn.over_sampling import ADASYN\n",
        "from imblearn.combine import SMOTEENN\n",
        "from imblearn.over_sampling import BorderlineSMOTE\n",
        "from sklearn.metrics import ConfusionMatrixDisplay\n",
        "from sklearn.preprocessing import RobustScaler\n",
        "from sklearn.preprocessing import PowerTransformer\n",
        "from sklearn.preprocessing import MinMaxScaler, OneHotEncoder\n",
        "from sklearn.preprocessing import OrdinalEncoder\n",
        "from imblearn.combine import SMOTETomek\n",
        "from sklearn.tree import DecisionTreeClassifier\n",
        "from sklearn.ensemble import RandomForestClassifier"
      ]
    },
    {
      "cell_type": "code",
      "execution_count": 165,
      "metadata": {
        "id": "ppyf8TTgb9zq",
        "colab": {
          "base_uri": "https://localhost:8080/",
          "height": 725
        },
        "outputId": "42926aad-b139-4942-be47-2aa070f71f62"
      },
      "outputs": [
        {
          "output_type": "stream",
          "name": "stdout",
          "text": [
            "Dataset shape: (1000, 21)\n"
          ]
        },
        {
          "output_type": "execute_result",
          "data": {
            "text/plain": [
              "             0     1    2\n",
              "laufkont     1     1    2\n",
              "laufzeit    18     9   12\n",
              "moral        4     4    2\n",
              "verw         2     0    9\n",
              "hoehe     1049  2799  841\n",
              "sparkont     1     1    2\n",
              "beszeit      2     3    4\n",
              "rate         4     2    2\n",
              "famges       2     3    2\n",
              "buerge       1     1    1\n",
              "wohnzeit     4     2    4\n",
              "verm         2     1    1\n",
              "alter       21    36   23\n",
              "weitkred     3     3    3\n",
              "wohn         1     1    1\n",
              "bishkred     1     2    1\n",
              "beruf        3     3    2\n",
              "pers         2     1    2\n",
              "telef        1     1    1\n",
              "gastarb      2     2    2\n",
              "kredit       1     1    1"
            ],
            "text/html": [
              "\n",
              "  <div id=\"df-b8a9acb7-0fcf-4848-abce-94d234322f8d\" class=\"colab-df-container\">\n",
              "    <div>\n",
              "<style scoped>\n",
              "    .dataframe tbody tr th:only-of-type {\n",
              "        vertical-align: middle;\n",
              "    }\n",
              "\n",
              "    .dataframe tbody tr th {\n",
              "        vertical-align: top;\n",
              "    }\n",
              "\n",
              "    .dataframe thead th {\n",
              "        text-align: right;\n",
              "    }\n",
              "</style>\n",
              "<table border=\"1\" class=\"dataframe\">\n",
              "  <thead>\n",
              "    <tr style=\"text-align: right;\">\n",
              "      <th></th>\n",
              "      <th>0</th>\n",
              "      <th>1</th>\n",
              "      <th>2</th>\n",
              "    </tr>\n",
              "  </thead>\n",
              "  <tbody>\n",
              "    <tr>\n",
              "      <th>laufkont</th>\n",
              "      <td>1</td>\n",
              "      <td>1</td>\n",
              "      <td>2</td>\n",
              "    </tr>\n",
              "    <tr>\n",
              "      <th>laufzeit</th>\n",
              "      <td>18</td>\n",
              "      <td>9</td>\n",
              "      <td>12</td>\n",
              "    </tr>\n",
              "    <tr>\n",
              "      <th>moral</th>\n",
              "      <td>4</td>\n",
              "      <td>4</td>\n",
              "      <td>2</td>\n",
              "    </tr>\n",
              "    <tr>\n",
              "      <th>verw</th>\n",
              "      <td>2</td>\n",
              "      <td>0</td>\n",
              "      <td>9</td>\n",
              "    </tr>\n",
              "    <tr>\n",
              "      <th>hoehe</th>\n",
              "      <td>1049</td>\n",
              "      <td>2799</td>\n",
              "      <td>841</td>\n",
              "    </tr>\n",
              "    <tr>\n",
              "      <th>sparkont</th>\n",
              "      <td>1</td>\n",
              "      <td>1</td>\n",
              "      <td>2</td>\n",
              "    </tr>\n",
              "    <tr>\n",
              "      <th>beszeit</th>\n",
              "      <td>2</td>\n",
              "      <td>3</td>\n",
              "      <td>4</td>\n",
              "    </tr>\n",
              "    <tr>\n",
              "      <th>rate</th>\n",
              "      <td>4</td>\n",
              "      <td>2</td>\n",
              "      <td>2</td>\n",
              "    </tr>\n",
              "    <tr>\n",
              "      <th>famges</th>\n",
              "      <td>2</td>\n",
              "      <td>3</td>\n",
              "      <td>2</td>\n",
              "    </tr>\n",
              "    <tr>\n",
              "      <th>buerge</th>\n",
              "      <td>1</td>\n",
              "      <td>1</td>\n",
              "      <td>1</td>\n",
              "    </tr>\n",
              "    <tr>\n",
              "      <th>wohnzeit</th>\n",
              "      <td>4</td>\n",
              "      <td>2</td>\n",
              "      <td>4</td>\n",
              "    </tr>\n",
              "    <tr>\n",
              "      <th>verm</th>\n",
              "      <td>2</td>\n",
              "      <td>1</td>\n",
              "      <td>1</td>\n",
              "    </tr>\n",
              "    <tr>\n",
              "      <th>alter</th>\n",
              "      <td>21</td>\n",
              "      <td>36</td>\n",
              "      <td>23</td>\n",
              "    </tr>\n",
              "    <tr>\n",
              "      <th>weitkred</th>\n",
              "      <td>3</td>\n",
              "      <td>3</td>\n",
              "      <td>3</td>\n",
              "    </tr>\n",
              "    <tr>\n",
              "      <th>wohn</th>\n",
              "      <td>1</td>\n",
              "      <td>1</td>\n",
              "      <td>1</td>\n",
              "    </tr>\n",
              "    <tr>\n",
              "      <th>bishkred</th>\n",
              "      <td>1</td>\n",
              "      <td>2</td>\n",
              "      <td>1</td>\n",
              "    </tr>\n",
              "    <tr>\n",
              "      <th>beruf</th>\n",
              "      <td>3</td>\n",
              "      <td>3</td>\n",
              "      <td>2</td>\n",
              "    </tr>\n",
              "    <tr>\n",
              "      <th>pers</th>\n",
              "      <td>2</td>\n",
              "      <td>1</td>\n",
              "      <td>2</td>\n",
              "    </tr>\n",
              "    <tr>\n",
              "      <th>telef</th>\n",
              "      <td>1</td>\n",
              "      <td>1</td>\n",
              "      <td>1</td>\n",
              "    </tr>\n",
              "    <tr>\n",
              "      <th>gastarb</th>\n",
              "      <td>2</td>\n",
              "      <td>2</td>\n",
              "      <td>2</td>\n",
              "    </tr>\n",
              "    <tr>\n",
              "      <th>kredit</th>\n",
              "      <td>1</td>\n",
              "      <td>1</td>\n",
              "      <td>1</td>\n",
              "    </tr>\n",
              "  </tbody>\n",
              "</table>\n",
              "</div>\n",
              "    <div class=\"colab-df-buttons\">\n",
              "\n",
              "  <div class=\"colab-df-container\">\n",
              "    <button class=\"colab-df-convert\" onclick=\"convertToInteractive('df-b8a9acb7-0fcf-4848-abce-94d234322f8d')\"\n",
              "            title=\"Convert this dataframe to an interactive table.\"\n",
              "            style=\"display:none;\">\n",
              "\n",
              "  <svg xmlns=\"http://www.w3.org/2000/svg\" height=\"24px\" viewBox=\"0 -960 960 960\">\n",
              "    <path d=\"M120-120v-720h720v720H120Zm60-500h600v-160H180v160Zm220 220h160v-160H400v160Zm0 220h160v-160H400v160ZM180-400h160v-160H180v160Zm440 0h160v-160H620v160ZM180-180h160v-160H180v160Zm440 0h160v-160H620v160Z\"/>\n",
              "  </svg>\n",
              "    </button>\n",
              "\n",
              "  <style>\n",
              "    .colab-df-container {\n",
              "      display:flex;\n",
              "      gap: 12px;\n",
              "    }\n",
              "\n",
              "    .colab-df-convert {\n",
              "      background-color: #E8F0FE;\n",
              "      border: none;\n",
              "      border-radius: 50%;\n",
              "      cursor: pointer;\n",
              "      display: none;\n",
              "      fill: #1967D2;\n",
              "      height: 32px;\n",
              "      padding: 0 0 0 0;\n",
              "      width: 32px;\n",
              "    }\n",
              "\n",
              "    .colab-df-convert:hover {\n",
              "      background-color: #E2EBFA;\n",
              "      box-shadow: 0px 1px 2px rgba(60, 64, 67, 0.3), 0px 1px 3px 1px rgba(60, 64, 67, 0.15);\n",
              "      fill: #174EA6;\n",
              "    }\n",
              "\n",
              "    .colab-df-buttons div {\n",
              "      margin-bottom: 4px;\n",
              "    }\n",
              "\n",
              "    [theme=dark] .colab-df-convert {\n",
              "      background-color: #3B4455;\n",
              "      fill: #D2E3FC;\n",
              "    }\n",
              "\n",
              "    [theme=dark] .colab-df-convert:hover {\n",
              "      background-color: #434B5C;\n",
              "      box-shadow: 0px 1px 3px 1px rgba(0, 0, 0, 0.15);\n",
              "      filter: drop-shadow(0px 1px 2px rgba(0, 0, 0, 0.3));\n",
              "      fill: #FFFFFF;\n",
              "    }\n",
              "  </style>\n",
              "\n",
              "    <script>\n",
              "      const buttonEl =\n",
              "        document.querySelector('#df-b8a9acb7-0fcf-4848-abce-94d234322f8d button.colab-df-convert');\n",
              "      buttonEl.style.display =\n",
              "        google.colab.kernel.accessAllowed ? 'block' : 'none';\n",
              "\n",
              "      async function convertToInteractive(key) {\n",
              "        const element = document.querySelector('#df-b8a9acb7-0fcf-4848-abce-94d234322f8d');\n",
              "        const dataTable =\n",
              "          await google.colab.kernel.invokeFunction('convertToInteractive',\n",
              "                                                    [key], {});\n",
              "        if (!dataTable) return;\n",
              "\n",
              "        const docLinkHtml = 'Like what you see? Visit the ' +\n",
              "          '<a target=\"_blank\" href=https://colab.research.google.com/notebooks/data_table.ipynb>data table notebook</a>'\n",
              "          + ' to learn more about interactive tables.';\n",
              "        element.innerHTML = '';\n",
              "        dataTable['output_type'] = 'display_data';\n",
              "        await google.colab.output.renderOutput(dataTable, element);\n",
              "        const docLink = document.createElement('div');\n",
              "        docLink.innerHTML = docLinkHtml;\n",
              "        element.appendChild(docLink);\n",
              "      }\n",
              "    </script>\n",
              "  </div>\n",
              "\n",
              "\n",
              "    <div id=\"df-eebedc68-1952-4aaf-a6e6-08f6fb05fb09\">\n",
              "      <button class=\"colab-df-quickchart\" onclick=\"quickchart('df-eebedc68-1952-4aaf-a6e6-08f6fb05fb09')\"\n",
              "                title=\"Suggest charts\"\n",
              "                style=\"display:none;\">\n",
              "\n",
              "<svg xmlns=\"http://www.w3.org/2000/svg\" height=\"24px\"viewBox=\"0 0 24 24\"\n",
              "     width=\"24px\">\n",
              "    <g>\n",
              "        <path d=\"M19 3H5c-1.1 0-2 .9-2 2v14c0 1.1.9 2 2 2h14c1.1 0 2-.9 2-2V5c0-1.1-.9-2-2-2zM9 17H7v-7h2v7zm4 0h-2V7h2v10zm4 0h-2v-4h2v4z\"/>\n",
              "    </g>\n",
              "</svg>\n",
              "      </button>\n",
              "\n",
              "<style>\n",
              "  .colab-df-quickchart {\n",
              "      --bg-color: #E8F0FE;\n",
              "      --fill-color: #1967D2;\n",
              "      --hover-bg-color: #E2EBFA;\n",
              "      --hover-fill-color: #174EA6;\n",
              "      --disabled-fill-color: #AAA;\n",
              "      --disabled-bg-color: #DDD;\n",
              "  }\n",
              "\n",
              "  [theme=dark] .colab-df-quickchart {\n",
              "      --bg-color: #3B4455;\n",
              "      --fill-color: #D2E3FC;\n",
              "      --hover-bg-color: #434B5C;\n",
              "      --hover-fill-color: #FFFFFF;\n",
              "      --disabled-bg-color: #3B4455;\n",
              "      --disabled-fill-color: #666;\n",
              "  }\n",
              "\n",
              "  .colab-df-quickchart {\n",
              "    background-color: var(--bg-color);\n",
              "    border: none;\n",
              "    border-radius: 50%;\n",
              "    cursor: pointer;\n",
              "    display: none;\n",
              "    fill: var(--fill-color);\n",
              "    height: 32px;\n",
              "    padding: 0;\n",
              "    width: 32px;\n",
              "  }\n",
              "\n",
              "  .colab-df-quickchart:hover {\n",
              "    background-color: var(--hover-bg-color);\n",
              "    box-shadow: 0 1px 2px rgba(60, 64, 67, 0.3), 0 1px 3px 1px rgba(60, 64, 67, 0.15);\n",
              "    fill: var(--button-hover-fill-color);\n",
              "  }\n",
              "\n",
              "  .colab-df-quickchart-complete:disabled,\n",
              "  .colab-df-quickchart-complete:disabled:hover {\n",
              "    background-color: var(--disabled-bg-color);\n",
              "    fill: var(--disabled-fill-color);\n",
              "    box-shadow: none;\n",
              "  }\n",
              "\n",
              "  .colab-df-spinner {\n",
              "    border: 2px solid var(--fill-color);\n",
              "    border-color: transparent;\n",
              "    border-bottom-color: var(--fill-color);\n",
              "    animation:\n",
              "      spin 1s steps(1) infinite;\n",
              "  }\n",
              "\n",
              "  @keyframes spin {\n",
              "    0% {\n",
              "      border-color: transparent;\n",
              "      border-bottom-color: var(--fill-color);\n",
              "      border-left-color: var(--fill-color);\n",
              "    }\n",
              "    20% {\n",
              "      border-color: transparent;\n",
              "      border-left-color: var(--fill-color);\n",
              "      border-top-color: var(--fill-color);\n",
              "    }\n",
              "    30% {\n",
              "      border-color: transparent;\n",
              "      border-left-color: var(--fill-color);\n",
              "      border-top-color: var(--fill-color);\n",
              "      border-right-color: var(--fill-color);\n",
              "    }\n",
              "    40% {\n",
              "      border-color: transparent;\n",
              "      border-right-color: var(--fill-color);\n",
              "      border-top-color: var(--fill-color);\n",
              "    }\n",
              "    60% {\n",
              "      border-color: transparent;\n",
              "      border-right-color: var(--fill-color);\n",
              "    }\n",
              "    80% {\n",
              "      border-color: transparent;\n",
              "      border-right-color: var(--fill-color);\n",
              "      border-bottom-color: var(--fill-color);\n",
              "    }\n",
              "    90% {\n",
              "      border-color: transparent;\n",
              "      border-bottom-color: var(--fill-color);\n",
              "    }\n",
              "  }\n",
              "</style>\n",
              "\n",
              "      <script>\n",
              "        async function quickchart(key) {\n",
              "          const quickchartButtonEl =\n",
              "            document.querySelector('#' + key + ' button');\n",
              "          quickchartButtonEl.disabled = true;  // To prevent multiple clicks.\n",
              "          quickchartButtonEl.classList.add('colab-df-spinner');\n",
              "          try {\n",
              "            const charts = await google.colab.kernel.invokeFunction(\n",
              "                'suggestCharts', [key], {});\n",
              "          } catch (error) {\n",
              "            console.error('Error during call to suggestCharts:', error);\n",
              "          }\n",
              "          quickchartButtonEl.classList.remove('colab-df-spinner');\n",
              "          quickchartButtonEl.classList.add('colab-df-quickchart-complete');\n",
              "        }\n",
              "        (() => {\n",
              "          let quickchartButtonEl =\n",
              "            document.querySelector('#df-eebedc68-1952-4aaf-a6e6-08f6fb05fb09 button');\n",
              "          quickchartButtonEl.style.display =\n",
              "            google.colab.kernel.accessAllowed ? 'block' : 'none';\n",
              "        })();\n",
              "      </script>\n",
              "    </div>\n",
              "\n",
              "    </div>\n",
              "  </div>\n"
            ],
            "application/vnd.google.colaboratory.intrinsic+json": {
              "type": "dataframe",
              "variable_name": "df"
            }
          },
          "metadata": {},
          "execution_count": 165
        }
      ],
      "source": [
        "# Disable warning messages for cleaner output\n",
        "import warnings\n",
        "warnings.filterwarnings('ignore')\n",
        "\n",
        "\n",
        "# Load dataset\n",
        "path = 'SouthGermanCredit.asc'\n",
        "df = read_csv(path, delimiter=' ')\n",
        "print(f\"Dataset shape: {df.shape}\")\n",
        "df.head(3).T\n"
      ]
    },
    {
      "cell_type": "code",
      "source": [
        "# Rename columns to more descriptive names\n",
        "df.columns = [\n",
        "    'account', 'duration', 'creditworthiness', 'purpose', 'amount', 'savings',\n",
        "    'employment_duration', 'installment_rate', 'personal_status', 'guarantor',\n",
        "    'residence_duration', 'assets', 'age', 'other_loans', 'housing',\n",
        "    'existing_credits', 'job', 'people_liable', 'phone', 'foreign_worker',\n",
        "    'credit_risk'\n",
        "]\n",
        "df.head(3).T\n"
      ],
      "metadata": {
        "id": "gf9NRIQXIeRX",
        "colab": {
          "base_uri": "https://localhost:8080/",
          "height": 707
        },
        "outputId": "1b1e41c4-bdf1-4628-a406-8306a40e5992"
      },
      "execution_count": 166,
      "outputs": [
        {
          "output_type": "execute_result",
          "data": {
            "text/plain": [
              "                        0     1    2\n",
              "account                 1     1    2\n",
              "duration               18     9   12\n",
              "creditworthiness        4     4    2\n",
              "purpose                 2     0    9\n",
              "amount               1049  2799  841\n",
              "savings                 1     1    2\n",
              "employment_duration     2     3    4\n",
              "installment_rate        4     2    2\n",
              "personal_status         2     3    2\n",
              "guarantor               1     1    1\n",
              "residence_duration      4     2    4\n",
              "assets                  2     1    1\n",
              "age                    21    36   23\n",
              "other_loans             3     3    3\n",
              "housing                 1     1    1\n",
              "existing_credits        1     2    1\n",
              "job                     3     3    2\n",
              "people_liable           2     1    2\n",
              "phone                   1     1    1\n",
              "foreign_worker          2     2    2\n",
              "credit_risk             1     1    1"
            ],
            "text/html": [
              "\n",
              "  <div id=\"df-8666b79b-afd2-46fa-a78c-79f7fbe72372\" class=\"colab-df-container\">\n",
              "    <div>\n",
              "<style scoped>\n",
              "    .dataframe tbody tr th:only-of-type {\n",
              "        vertical-align: middle;\n",
              "    }\n",
              "\n",
              "    .dataframe tbody tr th {\n",
              "        vertical-align: top;\n",
              "    }\n",
              "\n",
              "    .dataframe thead th {\n",
              "        text-align: right;\n",
              "    }\n",
              "</style>\n",
              "<table border=\"1\" class=\"dataframe\">\n",
              "  <thead>\n",
              "    <tr style=\"text-align: right;\">\n",
              "      <th></th>\n",
              "      <th>0</th>\n",
              "      <th>1</th>\n",
              "      <th>2</th>\n",
              "    </tr>\n",
              "  </thead>\n",
              "  <tbody>\n",
              "    <tr>\n",
              "      <th>account</th>\n",
              "      <td>1</td>\n",
              "      <td>1</td>\n",
              "      <td>2</td>\n",
              "    </tr>\n",
              "    <tr>\n",
              "      <th>duration</th>\n",
              "      <td>18</td>\n",
              "      <td>9</td>\n",
              "      <td>12</td>\n",
              "    </tr>\n",
              "    <tr>\n",
              "      <th>creditworthiness</th>\n",
              "      <td>4</td>\n",
              "      <td>4</td>\n",
              "      <td>2</td>\n",
              "    </tr>\n",
              "    <tr>\n",
              "      <th>purpose</th>\n",
              "      <td>2</td>\n",
              "      <td>0</td>\n",
              "      <td>9</td>\n",
              "    </tr>\n",
              "    <tr>\n",
              "      <th>amount</th>\n",
              "      <td>1049</td>\n",
              "      <td>2799</td>\n",
              "      <td>841</td>\n",
              "    </tr>\n",
              "    <tr>\n",
              "      <th>savings</th>\n",
              "      <td>1</td>\n",
              "      <td>1</td>\n",
              "      <td>2</td>\n",
              "    </tr>\n",
              "    <tr>\n",
              "      <th>employment_duration</th>\n",
              "      <td>2</td>\n",
              "      <td>3</td>\n",
              "      <td>4</td>\n",
              "    </tr>\n",
              "    <tr>\n",
              "      <th>installment_rate</th>\n",
              "      <td>4</td>\n",
              "      <td>2</td>\n",
              "      <td>2</td>\n",
              "    </tr>\n",
              "    <tr>\n",
              "      <th>personal_status</th>\n",
              "      <td>2</td>\n",
              "      <td>3</td>\n",
              "      <td>2</td>\n",
              "    </tr>\n",
              "    <tr>\n",
              "      <th>guarantor</th>\n",
              "      <td>1</td>\n",
              "      <td>1</td>\n",
              "      <td>1</td>\n",
              "    </tr>\n",
              "    <tr>\n",
              "      <th>residence_duration</th>\n",
              "      <td>4</td>\n",
              "      <td>2</td>\n",
              "      <td>4</td>\n",
              "    </tr>\n",
              "    <tr>\n",
              "      <th>assets</th>\n",
              "      <td>2</td>\n",
              "      <td>1</td>\n",
              "      <td>1</td>\n",
              "    </tr>\n",
              "    <tr>\n",
              "      <th>age</th>\n",
              "      <td>21</td>\n",
              "      <td>36</td>\n",
              "      <td>23</td>\n",
              "    </tr>\n",
              "    <tr>\n",
              "      <th>other_loans</th>\n",
              "      <td>3</td>\n",
              "      <td>3</td>\n",
              "      <td>3</td>\n",
              "    </tr>\n",
              "    <tr>\n",
              "      <th>housing</th>\n",
              "      <td>1</td>\n",
              "      <td>1</td>\n",
              "      <td>1</td>\n",
              "    </tr>\n",
              "    <tr>\n",
              "      <th>existing_credits</th>\n",
              "      <td>1</td>\n",
              "      <td>2</td>\n",
              "      <td>1</td>\n",
              "    </tr>\n",
              "    <tr>\n",
              "      <th>job</th>\n",
              "      <td>3</td>\n",
              "      <td>3</td>\n",
              "      <td>2</td>\n",
              "    </tr>\n",
              "    <tr>\n",
              "      <th>people_liable</th>\n",
              "      <td>2</td>\n",
              "      <td>1</td>\n",
              "      <td>2</td>\n",
              "    </tr>\n",
              "    <tr>\n",
              "      <th>phone</th>\n",
              "      <td>1</td>\n",
              "      <td>1</td>\n",
              "      <td>1</td>\n",
              "    </tr>\n",
              "    <tr>\n",
              "      <th>foreign_worker</th>\n",
              "      <td>2</td>\n",
              "      <td>2</td>\n",
              "      <td>2</td>\n",
              "    </tr>\n",
              "    <tr>\n",
              "      <th>credit_risk</th>\n",
              "      <td>1</td>\n",
              "      <td>1</td>\n",
              "      <td>1</td>\n",
              "    </tr>\n",
              "  </tbody>\n",
              "</table>\n",
              "</div>\n",
              "    <div class=\"colab-df-buttons\">\n",
              "\n",
              "  <div class=\"colab-df-container\">\n",
              "    <button class=\"colab-df-convert\" onclick=\"convertToInteractive('df-8666b79b-afd2-46fa-a78c-79f7fbe72372')\"\n",
              "            title=\"Convert this dataframe to an interactive table.\"\n",
              "            style=\"display:none;\">\n",
              "\n",
              "  <svg xmlns=\"http://www.w3.org/2000/svg\" height=\"24px\" viewBox=\"0 -960 960 960\">\n",
              "    <path d=\"M120-120v-720h720v720H120Zm60-500h600v-160H180v160Zm220 220h160v-160H400v160Zm0 220h160v-160H400v160ZM180-400h160v-160H180v160Zm440 0h160v-160H620v160ZM180-180h160v-160H180v160Zm440 0h160v-160H620v160Z\"/>\n",
              "  </svg>\n",
              "    </button>\n",
              "\n",
              "  <style>\n",
              "    .colab-df-container {\n",
              "      display:flex;\n",
              "      gap: 12px;\n",
              "    }\n",
              "\n",
              "    .colab-df-convert {\n",
              "      background-color: #E8F0FE;\n",
              "      border: none;\n",
              "      border-radius: 50%;\n",
              "      cursor: pointer;\n",
              "      display: none;\n",
              "      fill: #1967D2;\n",
              "      height: 32px;\n",
              "      padding: 0 0 0 0;\n",
              "      width: 32px;\n",
              "    }\n",
              "\n",
              "    .colab-df-convert:hover {\n",
              "      background-color: #E2EBFA;\n",
              "      box-shadow: 0px 1px 2px rgba(60, 64, 67, 0.3), 0px 1px 3px 1px rgba(60, 64, 67, 0.15);\n",
              "      fill: #174EA6;\n",
              "    }\n",
              "\n",
              "    .colab-df-buttons div {\n",
              "      margin-bottom: 4px;\n",
              "    }\n",
              "\n",
              "    [theme=dark] .colab-df-convert {\n",
              "      background-color: #3B4455;\n",
              "      fill: #D2E3FC;\n",
              "    }\n",
              "\n",
              "    [theme=dark] .colab-df-convert:hover {\n",
              "      background-color: #434B5C;\n",
              "      box-shadow: 0px 1px 3px 1px rgba(0, 0, 0, 0.15);\n",
              "      filter: drop-shadow(0px 1px 2px rgba(0, 0, 0, 0.3));\n",
              "      fill: #FFFFFF;\n",
              "    }\n",
              "  </style>\n",
              "\n",
              "    <script>\n",
              "      const buttonEl =\n",
              "        document.querySelector('#df-8666b79b-afd2-46fa-a78c-79f7fbe72372 button.colab-df-convert');\n",
              "      buttonEl.style.display =\n",
              "        google.colab.kernel.accessAllowed ? 'block' : 'none';\n",
              "\n",
              "      async function convertToInteractive(key) {\n",
              "        const element = document.querySelector('#df-8666b79b-afd2-46fa-a78c-79f7fbe72372');\n",
              "        const dataTable =\n",
              "          await google.colab.kernel.invokeFunction('convertToInteractive',\n",
              "                                                    [key], {});\n",
              "        if (!dataTable) return;\n",
              "\n",
              "        const docLinkHtml = 'Like what you see? Visit the ' +\n",
              "          '<a target=\"_blank\" href=https://colab.research.google.com/notebooks/data_table.ipynb>data table notebook</a>'\n",
              "          + ' to learn more about interactive tables.';\n",
              "        element.innerHTML = '';\n",
              "        dataTable['output_type'] = 'display_data';\n",
              "        await google.colab.output.renderOutput(dataTable, element);\n",
              "        const docLink = document.createElement('div');\n",
              "        docLink.innerHTML = docLinkHtml;\n",
              "        element.appendChild(docLink);\n",
              "      }\n",
              "    </script>\n",
              "  </div>\n",
              "\n",
              "\n",
              "    <div id=\"df-6075f569-7bf5-4027-ae2d-051dc2b0c570\">\n",
              "      <button class=\"colab-df-quickchart\" onclick=\"quickchart('df-6075f569-7bf5-4027-ae2d-051dc2b0c570')\"\n",
              "                title=\"Suggest charts\"\n",
              "                style=\"display:none;\">\n",
              "\n",
              "<svg xmlns=\"http://www.w3.org/2000/svg\" height=\"24px\"viewBox=\"0 0 24 24\"\n",
              "     width=\"24px\">\n",
              "    <g>\n",
              "        <path d=\"M19 3H5c-1.1 0-2 .9-2 2v14c0 1.1.9 2 2 2h14c1.1 0 2-.9 2-2V5c0-1.1-.9-2-2-2zM9 17H7v-7h2v7zm4 0h-2V7h2v10zm4 0h-2v-4h2v4z\"/>\n",
              "    </g>\n",
              "</svg>\n",
              "      </button>\n",
              "\n",
              "<style>\n",
              "  .colab-df-quickchart {\n",
              "      --bg-color: #E8F0FE;\n",
              "      --fill-color: #1967D2;\n",
              "      --hover-bg-color: #E2EBFA;\n",
              "      --hover-fill-color: #174EA6;\n",
              "      --disabled-fill-color: #AAA;\n",
              "      --disabled-bg-color: #DDD;\n",
              "  }\n",
              "\n",
              "  [theme=dark] .colab-df-quickchart {\n",
              "      --bg-color: #3B4455;\n",
              "      --fill-color: #D2E3FC;\n",
              "      --hover-bg-color: #434B5C;\n",
              "      --hover-fill-color: #FFFFFF;\n",
              "      --disabled-bg-color: #3B4455;\n",
              "      --disabled-fill-color: #666;\n",
              "  }\n",
              "\n",
              "  .colab-df-quickchart {\n",
              "    background-color: var(--bg-color);\n",
              "    border: none;\n",
              "    border-radius: 50%;\n",
              "    cursor: pointer;\n",
              "    display: none;\n",
              "    fill: var(--fill-color);\n",
              "    height: 32px;\n",
              "    padding: 0;\n",
              "    width: 32px;\n",
              "  }\n",
              "\n",
              "  .colab-df-quickchart:hover {\n",
              "    background-color: var(--hover-bg-color);\n",
              "    box-shadow: 0 1px 2px rgba(60, 64, 67, 0.3), 0 1px 3px 1px rgba(60, 64, 67, 0.15);\n",
              "    fill: var(--button-hover-fill-color);\n",
              "  }\n",
              "\n",
              "  .colab-df-quickchart-complete:disabled,\n",
              "  .colab-df-quickchart-complete:disabled:hover {\n",
              "    background-color: var(--disabled-bg-color);\n",
              "    fill: var(--disabled-fill-color);\n",
              "    box-shadow: none;\n",
              "  }\n",
              "\n",
              "  .colab-df-spinner {\n",
              "    border: 2px solid var(--fill-color);\n",
              "    border-color: transparent;\n",
              "    border-bottom-color: var(--fill-color);\n",
              "    animation:\n",
              "      spin 1s steps(1) infinite;\n",
              "  }\n",
              "\n",
              "  @keyframes spin {\n",
              "    0% {\n",
              "      border-color: transparent;\n",
              "      border-bottom-color: var(--fill-color);\n",
              "      border-left-color: var(--fill-color);\n",
              "    }\n",
              "    20% {\n",
              "      border-color: transparent;\n",
              "      border-left-color: var(--fill-color);\n",
              "      border-top-color: var(--fill-color);\n",
              "    }\n",
              "    30% {\n",
              "      border-color: transparent;\n",
              "      border-left-color: var(--fill-color);\n",
              "      border-top-color: var(--fill-color);\n",
              "      border-right-color: var(--fill-color);\n",
              "    }\n",
              "    40% {\n",
              "      border-color: transparent;\n",
              "      border-right-color: var(--fill-color);\n",
              "      border-top-color: var(--fill-color);\n",
              "    }\n",
              "    60% {\n",
              "      border-color: transparent;\n",
              "      border-right-color: var(--fill-color);\n",
              "    }\n",
              "    80% {\n",
              "      border-color: transparent;\n",
              "      border-right-color: var(--fill-color);\n",
              "      border-bottom-color: var(--fill-color);\n",
              "    }\n",
              "    90% {\n",
              "      border-color: transparent;\n",
              "      border-bottom-color: var(--fill-color);\n",
              "    }\n",
              "  }\n",
              "</style>\n",
              "\n",
              "      <script>\n",
              "        async function quickchart(key) {\n",
              "          const quickchartButtonEl =\n",
              "            document.querySelector('#' + key + ' button');\n",
              "          quickchartButtonEl.disabled = true;  // To prevent multiple clicks.\n",
              "          quickchartButtonEl.classList.add('colab-df-spinner');\n",
              "          try {\n",
              "            const charts = await google.colab.kernel.invokeFunction(\n",
              "                'suggestCharts', [key], {});\n",
              "          } catch (error) {\n",
              "            console.error('Error during call to suggestCharts:', error);\n",
              "          }\n",
              "          quickchartButtonEl.classList.remove('colab-df-spinner');\n",
              "          quickchartButtonEl.classList.add('colab-df-quickchart-complete');\n",
              "        }\n",
              "        (() => {\n",
              "          let quickchartButtonEl =\n",
              "            document.querySelector('#df-6075f569-7bf5-4027-ae2d-051dc2b0c570 button');\n",
              "          quickchartButtonEl.style.display =\n",
              "            google.colab.kernel.accessAllowed ? 'block' : 'none';\n",
              "        })();\n",
              "      </script>\n",
              "    </div>\n",
              "\n",
              "    </div>\n",
              "  </div>\n"
            ],
            "application/vnd.google.colaboratory.intrinsic+json": {
              "type": "dataframe",
              "variable_name": "df"
            }
          },
          "metadata": {},
          "execution_count": 166
        }
      ]
    },
    {
      "cell_type": "markdown",
      "metadata": {
        "id": "LckYCS8SlnFo"
      },
      "source": [
        "#Class Label Inversion (Target Re-labeling)"
      ]
    },
    {
      "cell_type": "code",
      "source": [
        "# Check original class distribution\n",
        "print(df['credit_risk'].value_counts())\n"
      ],
      "metadata": {
        "id": "pyhuKIHhW57Z",
        "colab": {
          "base_uri": "https://localhost:8080/"
        },
        "outputId": "15691f44-837f-43ee-85a9-75766f4a84b1"
      },
      "execution_count": 167,
      "outputs": [
        {
          "output_type": "stream",
          "name": "stdout",
          "text": [
            "credit_risk\n",
            "1    700\n",
            "0    300\n",
            "Name: count, dtype: int64\n"
          ]
        }
      ]
    },
    {
      "cell_type": "code",
      "execution_count": 168,
      "metadata": {
        "id": "Tlg8jYbnlqNA",
        "colab": {
          "base_uri": "https://localhost:8080/"
        },
        "outputId": "bf9cec13-2e2c-4571-bba8-10970e50a8b4"
      },
      "outputs": [
        {
          "output_type": "stream",
          "name": "stdout",
          "text": [
            "credit_risk\n",
            "0    700\n",
            "1    300\n",
            "Name: count, dtype: int64\n"
          ]
        }
      ],
      "source": [
        "# Invert class labels so that the minority class is positive (1)\n",
        "df['credit_risk'] = df['credit_risk'].apply(lambda x: 1 if x == 0 else 0)\n",
        "\n",
        "# Check new class distribution\n",
        "print(df['credit_risk'].value_counts())\n"
      ]
    },
    {
      "cell_type": "markdown",
      "source": [
        "**Observation:**\n",
        "\n",
        "The target variable was redefined so that 1 now represents high credit risk. This aligns with standard binary classification setups, where the positive class is the minority and of greater interest for model performance evaluation."
      ],
      "metadata": {
        "id": "zTbLcuXH3K2g"
      }
    },
    {
      "cell_type": "markdown",
      "metadata": {
        "id": "qQx2lbzTkEsQ"
      },
      "source": [
        "#Dataset Splitting and Class Imbalance Analysis"
      ]
    },
    {
      "cell_type": "code",
      "execution_count": 169,
      "metadata": {
        "id": "TP5-zdWVczhy",
        "colab": {
          "base_uri": "https://localhost:8080/"
        },
        "outputId": "6babbec0-b97e-4d59-e09d-281f563df506"
      },
      "outputs": [
        {
          "output_type": "stream",
          "name": "stdout",
          "text": [
            "Shapes:\n",
            "Train: (700, 20) (700, 1)\n",
            "Test: (300, 20) (300, 1)\n",
            "\n",
            "Class Distribution (Training Set):\n",
            "Negative (good clients - 0): 70.00%, Positive (bad clients - 1): 30.00%\n"
          ]
        }
      ],
      "source": [
        "\n",
        "# Separate features and target\n",
        "y = df['credit_risk'].to_frame()\n",
        "X = df.drop('credit_risk', axis=1)\n",
        "\n",
        "# Perform stratified split (70% train, 30% test)\n",
        "Xtrain, Xtest, ytrain, ytest = train_test_split(X, y, test_size=0.3, stratify=y, random_state=32)\n",
        "\n",
        "# Display dataset shapes\n",
        "print(\"Shapes:\")\n",
        "print(\"Train:\", Xtrain.shape, ytrain.shape)\n",
        "print(\"Test:\", Xtest.shape, ytest.shape)\n",
        "\n",
        "# Show class distribution in training set\n",
        "positive_ratio = (ytrain.sum() / ytrain.shape[0]).iloc[0]\n",
        "print(\"\\nClass Distribution (Training Set):\")\n",
        "print(\"Negative (good clients - 0): %.2f%%, Positive (bad clients - 1): %.2f%%\" % (100 * (1 - positive_ratio), 100 * positive_ratio))\n"
      ]
    },
    {
      "cell_type": "markdown",
      "source": [
        "**Observation:**\n",
        "\n",
        "The dataset was split using stratified sampling. The training set has a moderate imbalance: ~70% negative class (good clients) and ~30% positive class (bad clients).\n",
        "\n",
        "There is a moderate imbalance in the training data. The majority class (good clients) accounts for ~70% of the samples, while the minority class (bad clients) is ~30%.  \n",
        "This may cause the model to struggle identifying bad clients. Sampling techniques such as oversampling or undersampling may help.\n"
      ],
      "metadata": {
        "id": "ptwAm_mOjVWH"
      }
    },
    {
      "cell_type": "markdown",
      "metadata": {
        "id": "ocmGcSC2j_2x"
      },
      "source": [
        "#Feature Categorization Based on Data Types"
      ]
    },
    {
      "cell_type": "code",
      "source": [
        "# Define input variables according to Table 3 of the associated IEEE article.\n",
        "\n",
        "# Numerical variables\n",
        "numerical_features = [\"duration\", \"amount\", \"age\", \"people_liable\"]\n",
        "\n",
        "# Ordinal variables\n",
        "ordinal_features = [\n",
        "    \"account\", \"savings\", \"employment_duration\", \"installment_rate\",\n",
        "    \"residence_duration\", \"assets\", \"other_loans\", \"housing\",\n",
        "    \"existing_credits\", \"job\"\n",
        "]\n",
        "\n",
        "# Nominal and binary variables\n",
        "categorical_features = [\n",
        "    \"creditworthiness\", \"purpose\", \"personal_status\", \"guarantor\",\n",
        "    \"phone\", \"foreign_worker\"\n",
        "]\n",
        "\n",
        "print(\"Input feature distribution by type:\")\n",
        "print(\"Numerical variables:\", len(numerical_features))\n",
        "print(\"Ordinal variables:\", len(ordinal_features))\n",
        "print(\"Nominal & binary variables:\", len(categorical_features))\n"
      ],
      "metadata": {
        "id": "5J2kIzLYHPZP",
        "colab": {
          "base_uri": "https://localhost:8080/"
        },
        "outputId": "d4511bb1-810a-4a5d-cd55-a99a2c51e2ec"
      },
      "execution_count": 170,
      "outputs": [
        {
          "output_type": "stream",
          "name": "stdout",
          "text": [
            "Input feature distribution by type:\n",
            "Numerical variables: 4\n",
            "Ordinal variables: 10\n",
            "Nominal & binary variables: 6\n"
          ]
        }
      ]
    },
    {
      "cell_type": "markdown",
      "source": [
        "**Observation**\n",
        "\n",
        "The dataset features are split into 3 types:\n",
        "\n",
        "* 4 numerical\n",
        "\n",
        "* 10 ordinal\n",
        "\n",
        "* 6 categorical/binary\n",
        "\n",
        "This categorization is essential for applying the right preprocessing strategy in the next steps."
      ],
      "metadata": {
        "id": "4Zird0Yz4XXE"
      }
    },
    {
      "cell_type": "markdown",
      "metadata": {
        "id": "zb5bE4WJj8Rw"
      },
      "source": [
        "# Exploratory Data Analysis & Preprocessing Pipelines"
      ]
    },
    {
      "cell_type": "code",
      "source": [
        "# Summary statistics for all input features\n",
        "Xtrain.describe(include='all').T\n"
      ],
      "metadata": {
        "id": "--yGqJm5fDBx",
        "colab": {
          "base_uri": "https://localhost:8080/",
          "height": 676
        },
        "outputId": "2edc5697-4734-40fc-9c03-9b9067e6a7cc"
      },
      "execution_count": 171,
      "outputs": [
        {
          "output_type": "execute_result",
          "data": {
            "text/plain": [
              "                     count         mean          std    min     25%     50%  \\\n",
              "account              700.0     2.570000     1.249647    1.0     1.0     2.0   \n",
              "duration             700.0    21.141429    12.377063    4.0    12.0    18.0   \n",
              "creditworthiness     700.0     2.512857     1.099411    0.0     2.0     2.0   \n",
              "purpose              700.0     2.844286     2.752558    0.0     1.0     2.0   \n",
              "amount               700.0  3265.477143  2790.088119  276.0  1382.0  2327.0   \n",
              "savings              700.0     2.111429     1.581052    1.0     1.0     1.0   \n",
              "employment_duration  700.0     3.401429     1.186596    1.0     3.0     3.0   \n",
              "installment_rate     700.0     2.992857     1.128994    1.0     2.0     3.0   \n",
              "personal_status      700.0     2.658571     0.717050    1.0     2.0     3.0   \n",
              "guarantor            700.0     1.147143     0.487093    1.0     1.0     1.0   \n",
              "residence_duration   700.0     2.840000     1.110543    1.0     2.0     3.0   \n",
              "assets               700.0     2.351429     1.041038    1.0     1.0     2.0   \n",
              "age                  700.0    35.102857    11.313240   19.0    26.0    32.0   \n",
              "other_loans          700.0     2.667143     0.705024    1.0     3.0     3.0   \n",
              "housing              700.0     1.930000     0.523510    1.0     2.0     2.0   \n",
              "existing_credits     700.0     1.398571     0.570870    1.0     1.0     1.0   \n",
              "job                  700.0     2.900000     0.640770    1.0     3.0     3.0   \n",
              "people_liable        700.0     1.848571     0.358722    1.0     2.0     2.0   \n",
              "phone                700.0     1.405714     0.491381    1.0     1.0     1.0   \n",
              "foreign_worker       700.0     1.968571     0.174598    1.0     2.0     2.0   \n",
              "\n",
              "                         75%      max  \n",
              "account                 4.00      4.0  \n",
              "duration               24.00     72.0  \n",
              "creditworthiness        4.00      4.0  \n",
              "purpose                 3.00     10.0  \n",
              "amount               3972.25  18424.0  \n",
              "savings                 3.00      5.0  \n",
              "employment_duration     5.00      5.0  \n",
              "installment_rate        4.00      4.0  \n",
              "personal_status         3.00      4.0  \n",
              "guarantor               1.00      3.0  \n",
              "residence_duration      4.00      4.0  \n",
              "assets                  3.00      4.0  \n",
              "age                    42.00     75.0  \n",
              "other_loans             3.00      3.0  \n",
              "housing                 2.00      3.0  \n",
              "existing_credits        2.00      4.0  \n",
              "job                     3.00      4.0  \n",
              "people_liable           2.00      2.0  \n",
              "phone                   2.00      2.0  \n",
              "foreign_worker          2.00      2.0  "
            ],
            "text/html": [
              "\n",
              "  <div id=\"df-1da44d59-66cd-415d-a191-bbef3946a4a3\" class=\"colab-df-container\">\n",
              "    <div>\n",
              "<style scoped>\n",
              "    .dataframe tbody tr th:only-of-type {\n",
              "        vertical-align: middle;\n",
              "    }\n",
              "\n",
              "    .dataframe tbody tr th {\n",
              "        vertical-align: top;\n",
              "    }\n",
              "\n",
              "    .dataframe thead th {\n",
              "        text-align: right;\n",
              "    }\n",
              "</style>\n",
              "<table border=\"1\" class=\"dataframe\">\n",
              "  <thead>\n",
              "    <tr style=\"text-align: right;\">\n",
              "      <th></th>\n",
              "      <th>count</th>\n",
              "      <th>mean</th>\n",
              "      <th>std</th>\n",
              "      <th>min</th>\n",
              "      <th>25%</th>\n",
              "      <th>50%</th>\n",
              "      <th>75%</th>\n",
              "      <th>max</th>\n",
              "    </tr>\n",
              "  </thead>\n",
              "  <tbody>\n",
              "    <tr>\n",
              "      <th>account</th>\n",
              "      <td>700.0</td>\n",
              "      <td>2.570000</td>\n",
              "      <td>1.249647</td>\n",
              "      <td>1.0</td>\n",
              "      <td>1.0</td>\n",
              "      <td>2.0</td>\n",
              "      <td>4.00</td>\n",
              "      <td>4.0</td>\n",
              "    </tr>\n",
              "    <tr>\n",
              "      <th>duration</th>\n",
              "      <td>700.0</td>\n",
              "      <td>21.141429</td>\n",
              "      <td>12.377063</td>\n",
              "      <td>4.0</td>\n",
              "      <td>12.0</td>\n",
              "      <td>18.0</td>\n",
              "      <td>24.00</td>\n",
              "      <td>72.0</td>\n",
              "    </tr>\n",
              "    <tr>\n",
              "      <th>creditworthiness</th>\n",
              "      <td>700.0</td>\n",
              "      <td>2.512857</td>\n",
              "      <td>1.099411</td>\n",
              "      <td>0.0</td>\n",
              "      <td>2.0</td>\n",
              "      <td>2.0</td>\n",
              "      <td>4.00</td>\n",
              "      <td>4.0</td>\n",
              "    </tr>\n",
              "    <tr>\n",
              "      <th>purpose</th>\n",
              "      <td>700.0</td>\n",
              "      <td>2.844286</td>\n",
              "      <td>2.752558</td>\n",
              "      <td>0.0</td>\n",
              "      <td>1.0</td>\n",
              "      <td>2.0</td>\n",
              "      <td>3.00</td>\n",
              "      <td>10.0</td>\n",
              "    </tr>\n",
              "    <tr>\n",
              "      <th>amount</th>\n",
              "      <td>700.0</td>\n",
              "      <td>3265.477143</td>\n",
              "      <td>2790.088119</td>\n",
              "      <td>276.0</td>\n",
              "      <td>1382.0</td>\n",
              "      <td>2327.0</td>\n",
              "      <td>3972.25</td>\n",
              "      <td>18424.0</td>\n",
              "    </tr>\n",
              "    <tr>\n",
              "      <th>savings</th>\n",
              "      <td>700.0</td>\n",
              "      <td>2.111429</td>\n",
              "      <td>1.581052</td>\n",
              "      <td>1.0</td>\n",
              "      <td>1.0</td>\n",
              "      <td>1.0</td>\n",
              "      <td>3.00</td>\n",
              "      <td>5.0</td>\n",
              "    </tr>\n",
              "    <tr>\n",
              "      <th>employment_duration</th>\n",
              "      <td>700.0</td>\n",
              "      <td>3.401429</td>\n",
              "      <td>1.186596</td>\n",
              "      <td>1.0</td>\n",
              "      <td>3.0</td>\n",
              "      <td>3.0</td>\n",
              "      <td>5.00</td>\n",
              "      <td>5.0</td>\n",
              "    </tr>\n",
              "    <tr>\n",
              "      <th>installment_rate</th>\n",
              "      <td>700.0</td>\n",
              "      <td>2.992857</td>\n",
              "      <td>1.128994</td>\n",
              "      <td>1.0</td>\n",
              "      <td>2.0</td>\n",
              "      <td>3.0</td>\n",
              "      <td>4.00</td>\n",
              "      <td>4.0</td>\n",
              "    </tr>\n",
              "    <tr>\n",
              "      <th>personal_status</th>\n",
              "      <td>700.0</td>\n",
              "      <td>2.658571</td>\n",
              "      <td>0.717050</td>\n",
              "      <td>1.0</td>\n",
              "      <td>2.0</td>\n",
              "      <td>3.0</td>\n",
              "      <td>3.00</td>\n",
              "      <td>4.0</td>\n",
              "    </tr>\n",
              "    <tr>\n",
              "      <th>guarantor</th>\n",
              "      <td>700.0</td>\n",
              "      <td>1.147143</td>\n",
              "      <td>0.487093</td>\n",
              "      <td>1.0</td>\n",
              "      <td>1.0</td>\n",
              "      <td>1.0</td>\n",
              "      <td>1.00</td>\n",
              "      <td>3.0</td>\n",
              "    </tr>\n",
              "    <tr>\n",
              "      <th>residence_duration</th>\n",
              "      <td>700.0</td>\n",
              "      <td>2.840000</td>\n",
              "      <td>1.110543</td>\n",
              "      <td>1.0</td>\n",
              "      <td>2.0</td>\n",
              "      <td>3.0</td>\n",
              "      <td>4.00</td>\n",
              "      <td>4.0</td>\n",
              "    </tr>\n",
              "    <tr>\n",
              "      <th>assets</th>\n",
              "      <td>700.0</td>\n",
              "      <td>2.351429</td>\n",
              "      <td>1.041038</td>\n",
              "      <td>1.0</td>\n",
              "      <td>1.0</td>\n",
              "      <td>2.0</td>\n",
              "      <td>3.00</td>\n",
              "      <td>4.0</td>\n",
              "    </tr>\n",
              "    <tr>\n",
              "      <th>age</th>\n",
              "      <td>700.0</td>\n",
              "      <td>35.102857</td>\n",
              "      <td>11.313240</td>\n",
              "      <td>19.0</td>\n",
              "      <td>26.0</td>\n",
              "      <td>32.0</td>\n",
              "      <td>42.00</td>\n",
              "      <td>75.0</td>\n",
              "    </tr>\n",
              "    <tr>\n",
              "      <th>other_loans</th>\n",
              "      <td>700.0</td>\n",
              "      <td>2.667143</td>\n",
              "      <td>0.705024</td>\n",
              "      <td>1.0</td>\n",
              "      <td>3.0</td>\n",
              "      <td>3.0</td>\n",
              "      <td>3.00</td>\n",
              "      <td>3.0</td>\n",
              "    </tr>\n",
              "    <tr>\n",
              "      <th>housing</th>\n",
              "      <td>700.0</td>\n",
              "      <td>1.930000</td>\n",
              "      <td>0.523510</td>\n",
              "      <td>1.0</td>\n",
              "      <td>2.0</td>\n",
              "      <td>2.0</td>\n",
              "      <td>2.00</td>\n",
              "      <td>3.0</td>\n",
              "    </tr>\n",
              "    <tr>\n",
              "      <th>existing_credits</th>\n",
              "      <td>700.0</td>\n",
              "      <td>1.398571</td>\n",
              "      <td>0.570870</td>\n",
              "      <td>1.0</td>\n",
              "      <td>1.0</td>\n",
              "      <td>1.0</td>\n",
              "      <td>2.00</td>\n",
              "      <td>4.0</td>\n",
              "    </tr>\n",
              "    <tr>\n",
              "      <th>job</th>\n",
              "      <td>700.0</td>\n",
              "      <td>2.900000</td>\n",
              "      <td>0.640770</td>\n",
              "      <td>1.0</td>\n",
              "      <td>3.0</td>\n",
              "      <td>3.0</td>\n",
              "      <td>3.00</td>\n",
              "      <td>4.0</td>\n",
              "    </tr>\n",
              "    <tr>\n",
              "      <th>people_liable</th>\n",
              "      <td>700.0</td>\n",
              "      <td>1.848571</td>\n",
              "      <td>0.358722</td>\n",
              "      <td>1.0</td>\n",
              "      <td>2.0</td>\n",
              "      <td>2.0</td>\n",
              "      <td>2.00</td>\n",
              "      <td>2.0</td>\n",
              "    </tr>\n",
              "    <tr>\n",
              "      <th>phone</th>\n",
              "      <td>700.0</td>\n",
              "      <td>1.405714</td>\n",
              "      <td>0.491381</td>\n",
              "      <td>1.0</td>\n",
              "      <td>1.0</td>\n",
              "      <td>1.0</td>\n",
              "      <td>2.00</td>\n",
              "      <td>2.0</td>\n",
              "    </tr>\n",
              "    <tr>\n",
              "      <th>foreign_worker</th>\n",
              "      <td>700.0</td>\n",
              "      <td>1.968571</td>\n",
              "      <td>0.174598</td>\n",
              "      <td>1.0</td>\n",
              "      <td>2.0</td>\n",
              "      <td>2.0</td>\n",
              "      <td>2.00</td>\n",
              "      <td>2.0</td>\n",
              "    </tr>\n",
              "  </tbody>\n",
              "</table>\n",
              "</div>\n",
              "    <div class=\"colab-df-buttons\">\n",
              "\n",
              "  <div class=\"colab-df-container\">\n",
              "    <button class=\"colab-df-convert\" onclick=\"convertToInteractive('df-1da44d59-66cd-415d-a191-bbef3946a4a3')\"\n",
              "            title=\"Convert this dataframe to an interactive table.\"\n",
              "            style=\"display:none;\">\n",
              "\n",
              "  <svg xmlns=\"http://www.w3.org/2000/svg\" height=\"24px\" viewBox=\"0 -960 960 960\">\n",
              "    <path d=\"M120-120v-720h720v720H120Zm60-500h600v-160H180v160Zm220 220h160v-160H400v160Zm0 220h160v-160H400v160ZM180-400h160v-160H180v160Zm440 0h160v-160H620v160ZM180-180h160v-160H180v160Zm440 0h160v-160H620v160Z\"/>\n",
              "  </svg>\n",
              "    </button>\n",
              "\n",
              "  <style>\n",
              "    .colab-df-container {\n",
              "      display:flex;\n",
              "      gap: 12px;\n",
              "    }\n",
              "\n",
              "    .colab-df-convert {\n",
              "      background-color: #E8F0FE;\n",
              "      border: none;\n",
              "      border-radius: 50%;\n",
              "      cursor: pointer;\n",
              "      display: none;\n",
              "      fill: #1967D2;\n",
              "      height: 32px;\n",
              "      padding: 0 0 0 0;\n",
              "      width: 32px;\n",
              "    }\n",
              "\n",
              "    .colab-df-convert:hover {\n",
              "      background-color: #E2EBFA;\n",
              "      box-shadow: 0px 1px 2px rgba(60, 64, 67, 0.3), 0px 1px 3px 1px rgba(60, 64, 67, 0.15);\n",
              "      fill: #174EA6;\n",
              "    }\n",
              "\n",
              "    .colab-df-buttons div {\n",
              "      margin-bottom: 4px;\n",
              "    }\n",
              "\n",
              "    [theme=dark] .colab-df-convert {\n",
              "      background-color: #3B4455;\n",
              "      fill: #D2E3FC;\n",
              "    }\n",
              "\n",
              "    [theme=dark] .colab-df-convert:hover {\n",
              "      background-color: #434B5C;\n",
              "      box-shadow: 0px 1px 3px 1px rgba(0, 0, 0, 0.15);\n",
              "      filter: drop-shadow(0px 1px 2px rgba(0, 0, 0, 0.3));\n",
              "      fill: #FFFFFF;\n",
              "    }\n",
              "  </style>\n",
              "\n",
              "    <script>\n",
              "      const buttonEl =\n",
              "        document.querySelector('#df-1da44d59-66cd-415d-a191-bbef3946a4a3 button.colab-df-convert');\n",
              "      buttonEl.style.display =\n",
              "        google.colab.kernel.accessAllowed ? 'block' : 'none';\n",
              "\n",
              "      async function convertToInteractive(key) {\n",
              "        const element = document.querySelector('#df-1da44d59-66cd-415d-a191-bbef3946a4a3');\n",
              "        const dataTable =\n",
              "          await google.colab.kernel.invokeFunction('convertToInteractive',\n",
              "                                                    [key], {});\n",
              "        if (!dataTable) return;\n",
              "\n",
              "        const docLinkHtml = 'Like what you see? Visit the ' +\n",
              "          '<a target=\"_blank\" href=https://colab.research.google.com/notebooks/data_table.ipynb>data table notebook</a>'\n",
              "          + ' to learn more about interactive tables.';\n",
              "        element.innerHTML = '';\n",
              "        dataTable['output_type'] = 'display_data';\n",
              "        await google.colab.output.renderOutput(dataTable, element);\n",
              "        const docLink = document.createElement('div');\n",
              "        docLink.innerHTML = docLinkHtml;\n",
              "        element.appendChild(docLink);\n",
              "      }\n",
              "    </script>\n",
              "  </div>\n",
              "\n",
              "\n",
              "    <div id=\"df-ab6c1f4d-011f-4030-ad12-7c1104bd977f\">\n",
              "      <button class=\"colab-df-quickchart\" onclick=\"quickchart('df-ab6c1f4d-011f-4030-ad12-7c1104bd977f')\"\n",
              "                title=\"Suggest charts\"\n",
              "                style=\"display:none;\">\n",
              "\n",
              "<svg xmlns=\"http://www.w3.org/2000/svg\" height=\"24px\"viewBox=\"0 0 24 24\"\n",
              "     width=\"24px\">\n",
              "    <g>\n",
              "        <path d=\"M19 3H5c-1.1 0-2 .9-2 2v14c0 1.1.9 2 2 2h14c1.1 0 2-.9 2-2V5c0-1.1-.9-2-2-2zM9 17H7v-7h2v7zm4 0h-2V7h2v10zm4 0h-2v-4h2v4z\"/>\n",
              "    </g>\n",
              "</svg>\n",
              "      </button>\n",
              "\n",
              "<style>\n",
              "  .colab-df-quickchart {\n",
              "      --bg-color: #E8F0FE;\n",
              "      --fill-color: #1967D2;\n",
              "      --hover-bg-color: #E2EBFA;\n",
              "      --hover-fill-color: #174EA6;\n",
              "      --disabled-fill-color: #AAA;\n",
              "      --disabled-bg-color: #DDD;\n",
              "  }\n",
              "\n",
              "  [theme=dark] .colab-df-quickchart {\n",
              "      --bg-color: #3B4455;\n",
              "      --fill-color: #D2E3FC;\n",
              "      --hover-bg-color: #434B5C;\n",
              "      --hover-fill-color: #FFFFFF;\n",
              "      --disabled-bg-color: #3B4455;\n",
              "      --disabled-fill-color: #666;\n",
              "  }\n",
              "\n",
              "  .colab-df-quickchart {\n",
              "    background-color: var(--bg-color);\n",
              "    border: none;\n",
              "    border-radius: 50%;\n",
              "    cursor: pointer;\n",
              "    display: none;\n",
              "    fill: var(--fill-color);\n",
              "    height: 32px;\n",
              "    padding: 0;\n",
              "    width: 32px;\n",
              "  }\n",
              "\n",
              "  .colab-df-quickchart:hover {\n",
              "    background-color: var(--hover-bg-color);\n",
              "    box-shadow: 0 1px 2px rgba(60, 64, 67, 0.3), 0 1px 3px 1px rgba(60, 64, 67, 0.15);\n",
              "    fill: var(--button-hover-fill-color);\n",
              "  }\n",
              "\n",
              "  .colab-df-quickchart-complete:disabled,\n",
              "  .colab-df-quickchart-complete:disabled:hover {\n",
              "    background-color: var(--disabled-bg-color);\n",
              "    fill: var(--disabled-fill-color);\n",
              "    box-shadow: none;\n",
              "  }\n",
              "\n",
              "  .colab-df-spinner {\n",
              "    border: 2px solid var(--fill-color);\n",
              "    border-color: transparent;\n",
              "    border-bottom-color: var(--fill-color);\n",
              "    animation:\n",
              "      spin 1s steps(1) infinite;\n",
              "  }\n",
              "\n",
              "  @keyframes spin {\n",
              "    0% {\n",
              "      border-color: transparent;\n",
              "      border-bottom-color: var(--fill-color);\n",
              "      border-left-color: var(--fill-color);\n",
              "    }\n",
              "    20% {\n",
              "      border-color: transparent;\n",
              "      border-left-color: var(--fill-color);\n",
              "      border-top-color: var(--fill-color);\n",
              "    }\n",
              "    30% {\n",
              "      border-color: transparent;\n",
              "      border-left-color: var(--fill-color);\n",
              "      border-top-color: var(--fill-color);\n",
              "      border-right-color: var(--fill-color);\n",
              "    }\n",
              "    40% {\n",
              "      border-color: transparent;\n",
              "      border-right-color: var(--fill-color);\n",
              "      border-top-color: var(--fill-color);\n",
              "    }\n",
              "    60% {\n",
              "      border-color: transparent;\n",
              "      border-right-color: var(--fill-color);\n",
              "    }\n",
              "    80% {\n",
              "      border-color: transparent;\n",
              "      border-right-color: var(--fill-color);\n",
              "      border-bottom-color: var(--fill-color);\n",
              "    }\n",
              "    90% {\n",
              "      border-color: transparent;\n",
              "      border-bottom-color: var(--fill-color);\n",
              "    }\n",
              "  }\n",
              "</style>\n",
              "\n",
              "      <script>\n",
              "        async function quickchart(key) {\n",
              "          const quickchartButtonEl =\n",
              "            document.querySelector('#' + key + ' button');\n",
              "          quickchartButtonEl.disabled = true;  // To prevent multiple clicks.\n",
              "          quickchartButtonEl.classList.add('colab-df-spinner');\n",
              "          try {\n",
              "            const charts = await google.colab.kernel.invokeFunction(\n",
              "                'suggestCharts', [key], {});\n",
              "          } catch (error) {\n",
              "            console.error('Error during call to suggestCharts:', error);\n",
              "          }\n",
              "          quickchartButtonEl.classList.remove('colab-df-spinner');\n",
              "          quickchartButtonEl.classList.add('colab-df-quickchart-complete');\n",
              "        }\n",
              "        (() => {\n",
              "          let quickchartButtonEl =\n",
              "            document.querySelector('#df-ab6c1f4d-011f-4030-ad12-7c1104bd977f button');\n",
              "          quickchartButtonEl.style.display =\n",
              "            google.colab.kernel.accessAllowed ? 'block' : 'none';\n",
              "        })();\n",
              "      </script>\n",
              "    </div>\n",
              "\n",
              "    </div>\n",
              "  </div>\n"
            ],
            "application/vnd.google.colaboratory.intrinsic+json": {
              "type": "dataframe",
              "summary": "{\n  \"name\": \"Xtrain\",\n  \"rows\": 20,\n  \"fields\": [\n    {\n      \"column\": \"count\",\n      \"properties\": {\n        \"dtype\": \"number\",\n        \"std\": 0.0,\n        \"min\": 700.0,\n        \"max\": 700.0,\n        \"num_unique_values\": 1,\n        \"samples\": [\n          700.0\n        ],\n        \"semantic_type\": \"\",\n        \"description\": \"\"\n      }\n    },\n    {\n      \"column\": \"mean\",\n      \"properties\": {\n        \"dtype\": \"number\",\n        \"std\": 729.1022521113408,\n        \"min\": 1.1471428571428572,\n        \"max\": 3265.477142857143,\n        \"num_unique_values\": 20,\n        \"samples\": [\n          2.57\n        ],\n        \"semantic_type\": \"\",\n        \"description\": \"\"\n      }\n    },\n    {\n      \"column\": \"std\",\n      \"properties\": {\n        \"dtype\": \"number\",\n        \"std\": 623.426961951932,\n        \"min\": 0.17459772455558603,\n        \"max\": 2790.088119024766,\n        \"num_unique_values\": 20,\n        \"samples\": [\n          1.2496465880943681\n        ],\n        \"semantic_type\": \"\",\n        \"description\": \"\"\n      }\n    },\n    {\n      \"column\": \"min\",\n      \"properties\": {\n        \"dtype\": \"number\",\n        \"std\": 61.40384009935671,\n        \"min\": 0.0,\n        \"max\": 276.0,\n        \"num_unique_values\": 5,\n        \"samples\": [\n          4.0\n        ],\n        \"semantic_type\": \"\",\n        \"description\": \"\"\n      }\n    },\n    {\n      \"column\": \"25%\",\n      \"properties\": {\n        \"dtype\": \"number\",\n        \"std\": 308.27883823782514,\n        \"min\": 1.0,\n        \"max\": 1382.0,\n        \"num_unique_values\": 6,\n        \"samples\": [\n          1.0\n        ],\n        \"semantic_type\": \"\",\n        \"description\": \"\"\n      }\n    },\n    {\n      \"column\": \"50%\",\n      \"properties\": {\n        \"dtype\": \"number\",\n        \"std\": 519.373841122274,\n        \"min\": 1.0,\n        \"max\": 2327.0,\n        \"num_unique_values\": 6,\n        \"samples\": [\n          2.0\n        ],\n        \"semantic_type\": \"\",\n        \"description\": \"\"\n      }\n    },\n    {\n      \"column\": \"75%\",\n      \"properties\": {\n        \"dtype\": \"number\",\n        \"std\": 886.9102090485113,\n        \"min\": 1.0,\n        \"max\": 3972.25,\n        \"num_unique_values\": 8,\n        \"samples\": [\n          24.0\n        ],\n        \"semantic_type\": \"\",\n        \"description\": \"\"\n      }\n    },\n    {\n      \"column\": \"max\",\n      \"properties\": {\n        \"dtype\": \"number\",\n        \"std\": 4117.268830311258,\n        \"min\": 2.0,\n        \"max\": 18424.0,\n        \"num_unique_values\": 8,\n        \"samples\": [\n          72.0\n        ],\n        \"semantic_type\": \"\",\n        \"description\": \"\"\n      }\n    }\n  ]\n}"
            }
          },
          "metadata": {},
          "execution_count": 171
        }
      ]
    },
    {
      "cell_type": "markdown",
      "source": [
        "**Observation:**\n",
        "\n",
        "This statistical summary (mean, std, min, max, etc.) helps detect missing values, outliers, and distributions across variables to inform preprocessing decisions."
      ],
      "metadata": {
        "id": "hY6l_pOm6vGd"
      }
    },
    {
      "cell_type": "code",
      "source": [
        "# Distribution of numerical features\n",
        "Xtrain[numerical_features].hist(figsize=(14, 8))\n",
        "plt.show()\n"
      ],
      "metadata": {
        "colab": {
          "base_uri": "https://localhost:8080/",
          "height": 699
        },
        "id": "_rxxjcXcll_I",
        "outputId": "2914e70f-b78c-4c35-bf65-823d2766808d"
      },
      "execution_count": 172,
      "outputs": [
        {
          "output_type": "display_data",
          "data": {
            "text/plain": [
              "<Figure size 1400x800 with 4 Axes>"
            ],
            "image/png": "[encoded data removed]"
          },
          "metadata": {}
        }
      ]
    },
    {
      "cell_type": "markdown",
      "source": [
        "**Observation:**\n",
        "\n",
        "Histograms show skewness in all numeric features. This suggests a transformation (e.g., power transformation) may help normalize the distributions."
      ],
      "metadata": {
        "id": "PO_IDQR163JW"
      }
    },
    {
      "cell_type": "code",
      "source": [
        "# Normalized boxplots of numerical variables\n",
        "normalized_df = Xtrain[numerical_features] / Xtrain[numerical_features].max()\n",
        "sns.boxplot(data=normalized_df, orient='y')\n",
        "plt.title(\"Boxplot of Normalized Numerical Variables\")\n",
        "plt.show()\n"
      ],
      "metadata": {
        "colab": {
          "base_uri": "https://localhost:8080/",
          "height": 452
        },
        "id": "z3dA07eCl5KJ",
        "outputId": "b11c6aa4-c9a6-4c48-aab4-5effd3c4ed5f"
      },
      "execution_count": 173,
      "outputs": [
        {
          "output_type": "display_data",
          "data": {
            "text/plain": [
              "<Figure size 640x480 with 1 Axes>"
            ],
            "image/png": "[encoded data removed]"
          },
          "metadata": {}
        }
      ]
    },
    {
      "cell_type": "markdown",
      "source": [
        "**Observation:**\n",
        "\n",
        "The boxplots confirm the presence of outliers and different scales across variables, reinforcing the need for transformation and scaling."
      ],
      "metadata": {
        "id": "B9MtMLQF689q"
      }
    },
    {
      "cell_type": "code",
      "source": [
        "# Count plots of categorical and ordinal variables\n",
        "plt.figure(figsize=(8, 20))\n",
        "for i, col in enumerate(categorical_features + ordinal_features):\n",
        "    plt.subplot(9, 2, i + 1)\n",
        "    sns.countplot(data=Xtrain, x=col)\n",
        "    plt.title(f'Count Plot for {col}')\n",
        "\n",
        "plt.tight_layout()\n",
        "plt.show()\n"
      ],
      "metadata": {
        "colab": {
          "base_uri": "https://localhost:8080/",
          "height": 1000
        },
        "id": "IZbspl5AmNHX",
        "outputId": "3dea9954-46a0-41ec-e553-77960f004e4f"
      },
      "execution_count": 174,
      "outputs": [
        {
          "output_type": "display_data",
          "data": {
            "text/plain": [
              "<Figure size 800x2000 with 16 Axes>"
            ],
            "image/png": "[encoded data removed]"
          },
          "metadata": {}
        }
      ]
    },
    {
      "cell_type": "markdown",
      "source": [
        "**Observation:**\n",
        "\n",
        "These visualizations reveal class imbalance and low-cardinality features, guiding appropriate encoding strategies like OneHot or Ordinal encoding."
      ],
      "metadata": {
        "id": "bFeqCEO87DTB"
      }
    },
    {
      "cell_type": "code",
      "execution_count": 175,
      "metadata": {
        "id": "NvNYiIp9weCm",
        "colab": {
          "base_uri": "https://localhost:8080/"
        },
        "outputId": "95742412-1772-4947-af18-b6dc390ee6c4"
      },
      "outputs": [
        {
          "output_type": "stream",
          "name": "stdout",
          "text": [
            "Input shape before transformation: (700, 20)\n",
            "Input shape after transformation: (700, 36)\n"
          ]
        }
      ],
      "source": [
        "# Numerical pipeline: median imputation + Yeo-Johnson transform + scaling\n",
        "numerical_pipeline = Pipeline(steps=[\n",
        "    ('median_imputer', SimpleImputer(strategy='median')),\n",
        "    ('yeo_johnson', PowerTransformer(method='yeo-johnson')),\n",
        "    ('scaler', StandardScaler())\n",
        "])\n",
        "numerical_features_transformed = [\"duration\", \"amount\", \"age\"]\n",
        "\n",
        "# Categorical-nominal pipeline: mode imputation + one-hot encoding\n",
        "categorical_pipeline = Pipeline(steps=[\n",
        "    ('mode_imputer', SimpleImputer(strategy='most_frequent')),\n",
        "    ('onehot', OneHotEncoder(handle_unknown='ignore'))\n",
        "])\n",
        "categorical_features_transformed = categorical_features\n",
        "\n",
        "# Categorical-ordinal pipeline: mode imputation + ordinal encoding\n",
        "ordinal_pipeline = Pipeline(steps=[\n",
        "    ('mode_imputer', SimpleImputer(strategy='most_frequent')),\n",
        "    ('ordinal_encoder', OrdinalEncoder())\n",
        "])\n",
        "\n",
        "ordinal_features_transformed = [\n",
        "    \"creditworthiness\", \"purpose\", \"personal_status\", \"guarantor\",\n",
        "    \"people_liable\", \"phone\", \"foreign_worker\"\n",
        "]\n",
        "\n",
        "# Combine all transformations\n",
        "column_transformer = ColumnTransformer(transformers=[\n",
        "    ('numerical', numerical_pipeline, numerical_features_transformed),\n",
        "    ('categorical', categorical_pipeline, categorical_features_transformed),\n",
        "    ('ordinal', ordinal_pipeline, ordinal_features_transformed)\n",
        "])\n",
        "\n",
        "# Preview transformation output\n",
        "Xtmp = Xtrain.copy()\n",
        "X_transformed = column_transformer.fit_transform(Xtmp)\n",
        "print(\"Input shape before transformation:\", Xtmp.shape)\n",
        "print(\"Input shape after transformation:\", X_transformed.shape)\n"
      ]
    },
    {
      "cell_type": "markdown",
      "source": [
        "**Observation:**\n",
        "\n",
        "Three separate pipelines were created for numeric, categorical, and ordinal variables. This modular approach allows for customized preprocessing. The final transformation is applied via a ColumnTransformer, ensuring consistency before modeling."
      ],
      "metadata": {
        "id": "BGFSw00y7XlJ"
      }
    },
    {
      "cell_type": "markdown",
      "metadata": {
        "id": "UJokj9Diyeu0"
      },
      "source": [
        "#Cross-Validation Preparation and Input Expansion"
      ]
    },
    {
      "cell_type": "code",
      "execution_count": 176,
      "metadata": {
        "id": "d3lqBiH5wd1e",
        "colab": {
          "base_uri": "https://localhost:8080/"
        },
        "outputId": "3fa288a8-29ff-42d6-d097-2fd4b96532a7"
      },
      "outputs": [
        {
          "output_type": "stream",
          "name": "stdout",
          "text": [
            "Input shape BEFORE transformations: (1000, 20)\n",
            "Input shape AFTER transformations: (1000, 36)\n"
          ]
        }
      ],
      "source": [
        "# Merge training and test sets to prepare for cross-validation\n",
        "\n",
        "Xtv = pd.concat([Xtrain, Xtest])\n",
        "ytv = pd.concat([ytrain, ytest])\n",
        "\n",
        "# Check dimensional changes after One-Hot Encoding and other transformations\n",
        "Xtmp = Xtv.copy()\n",
        "X_transformed = column_transformer.fit_transform(Xtmp)\n",
        "\n",
        "print(\"Input shape BEFORE transformations:\", Xtmp.shape)\n",
        "print(\"Input shape AFTER transformations:\", X_transformed.shape)\n"
      ]
    },
    {
      "cell_type": "markdown",
      "metadata": {
        "id": "hZxyRbHL0gNF"
      },
      "source": [
        "#Model Evaluation Function with Resampling and Multiple Metrics"
      ]
    },
    {
      "cell_type": "code",
      "source": [
        "def evaluate_model(model, name, X, y, resampling_method=None):\n",
        "    \"\"\"\n",
        "    Trains and evaluates a given model using cross-validation and various performance metrics.\n",
        "\n",
        "    Args:\n",
        "        model: A scikit-learn compatible estimator.\n",
        "        name (str): Name of the model (for display).\n",
        "        X (pd.DataFrame): Input features.\n",
        "        y (pd.Series or np.ndarray): Target variable.\n",
        "        resampling_method: Optional resampling method (e.g., SMOTE, SMOTEENN).\n",
        "\n",
        "    Prints:\n",
        "        Mean and standard deviation of each evaluation metric across folds.\n",
        "    \"\"\"\n",
        "\n",
        "    pipeline = ImbPipeline(steps=[\n",
        "        ('resampling', resampling_method),\n",
        "        ('model', model)\n",
        "    ])\n",
        "\n",
        "    cv = RepeatedStratifiedKFold(n_splits=5, n_repeats=3, random_state=5)\n",
        "\n",
        "    metrics_dict = {\n",
        "        'accuracy': 'accuracy',\n",
        "        'precision': 'precision',\n",
        "        'recall': 'recall',\n",
        "        'f1': 'f1',\n",
        "        'roc_auc': 'roc_auc',\n",
        "        'gmean': make_scorer(geometric_mean_score)\n",
        "    }\n",
        "\n",
        "    scores = cross_validate(pipeline, X, np.ravel(y), scoring=metrics_dict, cv=cv, return_train_score=True)\n",
        "\n",
        "    print('>> %s' % name)\n",
        "    for j, k in enumerate(list(scores.keys())):\n",
        "        if j > 1:\n",
        "            print('\\t %s %.4f (%.3f)' % (k, np.nanmean(scores[k]), np.nanstd(scores[k])))\n"
      ],
      "metadata": {
        "id": "cgCahRDyEMf9"
      },
      "execution_count": 177,
      "outputs": []
    },
    {
      "cell_type": "markdown",
      "source": [
        "**Observation:**\n",
        "\n",
        "This function allows consistent evaluation of multiple models across the same CV strategy and resampling method. The pipeline is modular and accepts oversampling/undersampling methods like SMOTE or SMOTEENN. Output metrics include standard classification metrics and G-Mean, which is particularly useful for imbalanced datasets."
      ],
      "metadata": {
        "id": "Z2B9MXH08A2D"
      }
    },
    {
      "cell_type": "markdown",
      "source": [
        "##Logistic Regression with Resampling and Feature Transformation"
      ],
      "metadata": {
        "id": "j60KvQ0LjcgO"
      }
    },
    {
      "cell_type": "code",
      "source": [
        "\n",
        "model_name = \"Logistic Regression\"\n",
        "\n",
        "# Define the base Logistic Regression model with selected hyperparameters\n",
        "base_model = LogisticRegression(\n",
        "    penalty='elasticnet',\n",
        "    solver='saga',\n",
        "    max_iter=4000,\n",
        "    C=10,\n",
        "    l1_ratio=0.5,\n",
        "    class_weight=\"balanced\",\n",
        "    random_state=1\n",
        ")\n",
        "\n",
        "# Choose a resampling method\n",
        "resampling_method = SMOTETomek(random_state=42)\n",
        "# Alternative: RandomUnderSampler(sampling_strategy=0.5, random_state=42)\n",
        "\n",
        "# Define full pipeline with preprocessing and model\n",
        "model_pipeline = ImbPipeline(steps=[\n",
        "    ('preprocessing', column_transformer),\n",
        "\n",
        "    ('model', base_model)\n",
        "])\n",
        "\n",
        "# Evaluate the model\n",
        "evaluate_model(model_pipeline, model_name, Xtv, ytv, resampling_method)\n"
      ],
      "metadata": {
        "id": "wYQegVU7nMki",
        "colab": {
          "base_uri": "https://localhost:8080/"
        },
        "outputId": "ee3b329d-7b8e-48bd-ac62-2d0ba6a8453a"
      },
      "execution_count": 178,
      "outputs": [
        {
          "output_type": "stream",
          "name": "stdout",
          "text": [
            ">> Logistic Regression\n",
            "\t test_accuracy 0.6847 (0.019)\n",
            "\t train_accuracy 0.6968 (0.012)\n",
            "\t test_precision 0.4801 (0.026)\n",
            "\t train_precision 0.4959 (0.016)\n",
            "\t test_recall 0.6022 (0.047)\n",
            "\t train_recall 0.6211 (0.024)\n",
            "\t test_f1 0.5336 (0.030)\n",
            "\t train_f1 0.5514 (0.017)\n",
            "\t test_roc_auc 0.7111 (0.028)\n",
            "\t train_roc_auc 0.7358 (0.011)\n",
            "\t test_gmean 0.6577 (0.025)\n",
            "\t train_gmean 0.6729 (0.014)\n"
          ]
        }
      ]
    },
    {
      "cell_type": "markdown",
      "source": [
        "**Observation:**\n",
        "\n",
        "This pipeline combines feature preprocessing, oversampling with SMOTETomek, and an Elastic Net regularized Logistic Regression. The class_weight='balanced' parameter further addresses class imbalance during training.\n",
        "\n",
        "The model achieved a G-Mean of 0.6577, a ROC AUC of 0.7111, and a recall of 0.6022 on the test set, which suggests moderate ability to identify the minority class. However, precision is relatively low (0.4801), indicating that many predicted positives are false. Overall, the performance is balanced but not strong enough for high-stakes decision-making."
      ],
      "metadata": {
        "id": "Hr9iUKm2A_Q9"
      }
    },
    {
      "cell_type": "markdown",
      "source": [
        "##k-Nearest Neighbors (kNN)"
      ],
      "metadata": {
        "id": "2x_t7QR3rqeX"
      }
    },
    {
      "cell_type": "code",
      "source": [
        "# k-Nearest Neighbors (kNN) model with SMOTETomek resampling\n",
        "\n",
        "model_name = \"k-Nearest Neighbors\"\n",
        "base_model = KNeighborsClassifier(n_neighbors=3)\n",
        "sampling_method = SMOTETomek(random_state=42)\n",
        "\n",
        "model_pipeline = ImbPipeline(steps=[\n",
        "    ('column_transformer', column_transformer),\n",
        "    ('model', base_model)\n",
        "])\n",
        "\n",
        "# Evaluate model using cross-validation\n",
        "evaluate_model(model_pipeline, model_name, Xtv, ytv, sampling_method)\n"
      ],
      "metadata": {
        "id": "k4ySsyhfrnXI",
        "colab": {
          "base_uri": "https://localhost:8080/"
        },
        "outputId": "f0d42fe6-7672-42eb-a37a-a05970a13246"
      },
      "execution_count": 179,
      "outputs": [
        {
          "output_type": "stream",
          "name": "stdout",
          "text": [
            ">> k-Nearest Neighbors\n",
            "\t test_accuracy 0.6450 (0.022)\n",
            "\t train_accuracy 0.7918 (0.011)\n",
            "\t test_precision 0.4233 (0.031)\n",
            "\t train_precision 0.6346 (0.019)\n",
            "\t test_recall 0.5056 (0.061)\n",
            "\t train_recall 0.7231 (0.021)\n",
            "\t test_f1 0.4596 (0.039)\n",
            "\t train_f1 0.6757 (0.015)\n",
            "\t test_roc_auc 0.6334 (0.027)\n",
            "\t train_roc_auc 0.8580 (0.009)\n",
            "\t test_gmean 0.5952 (0.032)\n",
            "\t train_gmean 0.7704 (0.012)\n"
          ]
        }
      ]
    },
    {
      "cell_type": "markdown",
      "source": [
        "**Observation:**\n",
        "\n",
        "The kNN model achieved moderate performance on the test set (G-mean: 0.5952) but showed clear overfitting, with much higher scores on training data. This indicates that the model struggles to generalize well, possibly due to its sensitivity to noise and imbalanced data."
      ],
      "metadata": {
        "id": "hi_4guE4B-F7"
      }
    },
    {
      "cell_type": "markdown",
      "source": [
        "##Decision Tree"
      ],
      "metadata": {
        "id": "YA89QvpWrxHW"
      }
    },
    {
      "cell_type": "code",
      "source": [
        "# Decision Tree model with SMOTETomek resampling\n",
        "\n",
        "model_name = \"Decision Tree\"\n",
        "base_model = DecisionTreeClassifier(criterion=\"gini\", max_depth=2, random_state=1)\n",
        "sampling_method = SMOTETomek(random_state=42)\n",
        "\n",
        "model_pipeline = ImbPipeline(steps=[\n",
        "    ('column_transformer', column_transformer),\n",
        "    ('model', base_model)\n",
        "])\n",
        "\n",
        "# Evaluate model using cross-validation\n",
        "evaluate_model(model_pipeline, model_name, Xtv, ytv, sampling_method)\n",
        "\n"
      ],
      "metadata": {
        "id": "j7DvXFztrnUH",
        "colab": {
          "base_uri": "https://localhost:8080/"
        },
        "outputId": "d62dc8ef-be89-44ff-b780-75aed52161e8"
      },
      "execution_count": 180,
      "outputs": [
        {
          "output_type": "stream",
          "name": "stdout",
          "text": [
            ">> Decision Tree\n",
            "\t test_accuracy 0.5920 (0.057)\n",
            "\t train_accuracy 0.6014 (0.057)\n",
            "\t test_precision 0.3864 (0.029)\n",
            "\t train_precision 0.3966 (0.023)\n",
            "\t test_recall 0.5756 (0.155)\n",
            "\t train_recall 0.5839 (0.175)\n",
            "\t test_f1 0.4519 (0.046)\n",
            "\t train_f1 0.4589 (0.051)\n",
            "\t test_roc_auc 0.6158 (0.024)\n",
            "\t train_roc_auc 0.6356 (0.011)\n",
            "\t test_gmean 0.5678 (0.038)\n",
            "\t train_gmean 0.5725 (0.041)\n"
          ]
        }
      ]
    },
    {
      "cell_type": "markdown",
      "source": [
        "**Observation:**\n",
        "\n",
        "The Decision Tree model (depth=2) achieved moderate performance, with test G-mean of 0.5678 and test ROC AUC of 0.6158. Its shallow depth limits overfitting but also restricts predictive power. The model performs similarly on train and test sets, suggesting underfitting."
      ],
      "metadata": {
        "id": "7KEmq46wCQfO"
      }
    },
    {
      "cell_type": "markdown",
      "source": [
        "##Random Forest"
      ],
      "metadata": {
        "id": "vqZs2-isr3JG"
      }
    },
    {
      "cell_type": "code",
      "source": [
        "name = \"Random Forest\"\n",
        "\n",
        "modelRaw = RandomForestClassifier(\n",
        "    n_estimators=100,\n",
        "    criterion=\"gini\",\n",
        "    max_depth=2,\n",
        "    min_samples_split=5,\n",
        "    min_samples_leaf=2,\n",
        "    max_features=\"sqrt\",\n",
        "    bootstrap=True,\n",
        "    n_jobs=-1,\n",
        "    random_state=5\n",
        ")\n",
        "\n",
        "oversampler = SMOTETomek(random_state=42)\n",
        "\n",
        "model = ImbPipeline(steps=[\n",
        "    ('column_transformer', column_transformer),\n",
        "    ('model', modelRaw)\n",
        "])\n",
        "\n",
        "# Evaluate selected configuration\n",
        "evaluate_model(model, name, Xtv, ytv, oversampler)\n"
      ],
      "metadata": {
        "id": "qDbkUjaZrnQ2",
        "colab": {
          "base_uri": "https://localhost:8080/"
        },
        "outputId": "5b9818a5-1a9b-4796-a013-9dc0af95302f"
      },
      "execution_count": 181,
      "outputs": [
        {
          "output_type": "stream",
          "name": "stdout",
          "text": [
            ">> Random Forest\n",
            "\t test_accuracy 0.6087 (0.025)\n",
            "\t train_accuracy 0.6309 (0.015)\n",
            "\t test_precision 0.4071 (0.017)\n",
            "\t train_precision 0.4284 (0.010)\n",
            "\t test_recall 0.6589 (0.061)\n",
            "\t train_recall 0.6828 (0.054)\n",
            "\t test_f1 0.5019 (0.022)\n",
            "\t train_f1 0.5255 (0.015)\n",
            "\t test_roc_auc 0.6709 (0.024)\n",
            "\t train_roc_auc 0.7007 (0.011)\n",
            "\t test_gmean 0.6196 (0.021)\n",
            "\t train_gmean 0.6430 (0.010)\n"
          ]
        }
      ]
    },
    {
      "cell_type": "markdown",
      "source": [
        "**Observation:**\n",
        "\n",
        "Despite its shallow depth, the Random Forest achieves a decent recall (0.6589) and G-mean (0.6196). The use of SMOTETomek helped the model better capture the minority class, though overall performance is still modest. This suggests the model benefits from ensemble voting, but may be underfitting."
      ],
      "metadata": {
        "id": "TOZ8iXPrC8YT"
      }
    },
    {
      "cell_type": "markdown",
      "source": [
        "##XGBoosting"
      ],
      "metadata": {
        "id": "CJiZcCyGr9Km"
      }
    },
    {
      "cell_type": "code",
      "source": [
        "model_name = \"XGBoosting\"\n",
        "\n",
        "# Base model with selected hyperparameters.\n",
        "base_model = XGBClassifier(\n",
        "    booster='gbtree',                 # Type of base learner: decision tree.\n",
        "    n_estimators=200,                 # Number of trees in the ensemble.\n",
        "    max_depth=2,                      # Maximum depth of each tree.\n",
        "    learning_rate=0.01,               # Learning rate (weight of each tree).\n",
        "    subsample=1,                      # Fraction of samples used in each boosting round.\n",
        "    random_state=5,                   # For reproducibility.\n",
        "    objective='binary:logistic',      # Binary classification objective.\n",
        "    n_jobs=-1                         # Use all available CPU cores.\n",
        ")\n",
        "\n",
        "# Resampling method to address class imbalance.\n",
        "resampling_method = KMeansSMOTE(cluster_balance_threshold=0.1, random_state=42)\n",
        "\n",
        "# Pipeline combining preprocessing and the model.\n",
        "model_pipeline = ImbPipeline(steps=[\n",
        "    ('column_transformer', column_transformer),\n",
        "    ('model', base_model)\n",
        "])\n",
        "\n",
        "# Evaluate the model using repeated stratified cross-validation.\n",
        "evaluate_model(model_pipeline, model_name, Xtv, ytv, resampling_method)\n"
      ],
      "metadata": {
        "id": "FUW1KQmsrnN2",
        "colab": {
          "base_uri": "https://localhost:8080/"
        },
        "outputId": "37982d54-f259-4192-b8d8-b83fa82a7933"
      },
      "execution_count": 182,
      "outputs": [
        {
          "output_type": "stream",
          "name": "stdout",
          "text": [
            ">> XGBoosting\n",
            "\t test_accuracy 0.6490 (0.025)\n",
            "\t train_accuracy 0.6703 (0.013)\n",
            "\t test_precision 0.4113 (0.041)\n",
            "\t train_precision 0.4458 (0.024)\n",
            "\t test_recall 0.3878 (0.077)\n",
            "\t train_recall 0.4056 (0.053)\n",
            "\t test_f1 0.3958 (0.049)\n",
            "\t train_f1 0.4232 (0.034)\n",
            "\t test_roc_auc 0.6450 (0.027)\n",
            "\t train_roc_auc 0.6887 (0.014)\n",
            "\t test_gmean 0.5393 (0.042)\n",
            "\t train_gmean 0.5621 (0.030)\n"
          ]
        }
      ]
    },
    {
      "cell_type": "markdown",
      "source": [
        "**Observation:**\n",
        "\n",
        "This XGBoost model with KMeansSMOTE shows moderate performance. Despite its power, the low recall (0.39) and G-mean (0.54) suggest it struggles to detect the minority class effectively. Tuning or deeper trees may help."
      ],
      "metadata": {
        "id": "tvKB-kXsEUGE"
      }
    },
    {
      "cell_type": "markdown",
      "source": [
        "### **Ejercicio 7f: Red Neuronal Multicapa (MLP)**"
      ],
      "metadata": {
        "id": "gDtBaZTxsDRe"
      }
    },
    {
      "cell_type": "code",
      "source": [
        "\n",
        "name = \"MLP\"\n",
        "\n",
        "model_raw = MLPClassifier(\n",
        "    hidden_layer_sizes=(6, 4),     # Number of hidden layers and neurons per layer.\n",
        "    max_iter=20000,                # Maximum iterations for convergence.\n",
        "    alpha=0.001,                   # L2 regularization parameter.\n",
        "    solver='adam',                # Optimization algorithm.\n",
        "    learning_rate_init=0.0001,    # Initial learning rate.\n",
        "    random_state=42\n",
        ")\n",
        "\n",
        "# Resampling strategy\n",
        "resampling_method = RandomUnderSampler(sampling_strategy=0.5, random_state=42)\n",
        "\n",
        "model_mlp = ImbPipeline(steps=[\n",
        "    ('column_transformer', column_transformer),\n",
        "    ('model', model_raw)\n",
        "])\n",
        "\n",
        "# Evaluate the selected configuration\n",
        "evaluate_model(model_mlp, name, Xtv, ytv, resampling_method)\n"
      ],
      "metadata": {
        "id": "1ijo8KULnPu2",
        "colab": {
          "base_uri": "https://localhost:8080/"
        },
        "outputId": "6e47d204-08e3-49b4-b425-66fb080bec38"
      },
      "execution_count": 183,
      "outputs": [
        {
          "output_type": "stream",
          "name": "stdout",
          "text": [
            ">> MLP\n",
            "\t test_accuracy 0.7117 (0.029)\n",
            "\t train_accuracy 0.7510 (0.011)\n",
            "\t test_precision 0.5361 (0.081)\n",
            "\t train_precision 0.6399 (0.026)\n",
            "\t test_recall 0.3100 (0.064)\n",
            "\t train_recall 0.3883 (0.038)\n",
            "\t test_f1 0.3901 (0.069)\n",
            "\t train_f1 0.4824 (0.035)\n",
            "\t test_roc_auc 0.7130 (0.034)\n",
            "\t train_roc_auc 0.7671 (0.013)\n",
            "\t test_gmean 0.5204 (0.056)\n",
            "\t train_gmean 0.5924 (0.029)\n"
          ]
        }
      ]
    },
    {
      "cell_type": "markdown",
      "source": [
        "**Observation:**\n",
        "\n",
        "The MLP model achieves the highest test accuracy (71.17%) among all evaluated models. However, its recall is low (31.00%), indicating poor sensitivity in identifying positive cases. Despite using undersampling to address class imbalance, the model tends to favor the majority class. Its ROC AUC of 0.7130 suggests decent overall ranking ability, but the low G-mean (0.5204) reinforces that the performance across classes is unbalanced."
      ],
      "metadata": {
        "id": "6YuVFd-bE10f"
      }
    },
    {
      "cell_type": "markdown",
      "source": [
        "### **Ejercicio 7g: Máquina de Vector Soporte (SVM)**"
      ],
      "metadata": {
        "id": "OIkSmzaPsOiN"
      }
    },
    {
      "cell_type": "code",
      "source": [
        "model_name = \"Support Vector Machine\"\n",
        "\n",
        "# Define the SVM model with RBF kernel, regularization parameter C, and class imbalance handling\n",
        "svm_model = svm.SVC(\n",
        "    kernel='rbf',               # Radial Basis Function kernel\n",
        "    C=1,                        # Regularization parameter\n",
        "    gamma=0.01,                 # Kernel coefficient; suggested values: 0.05, 0.1, 1, 10, 30, 50\n",
        "    class_weight=\"balanced\"    # Automatically adjust weights for class imbalance\n",
        ")\n",
        "\n",
        "# Apply oversampling technique to address class imbalance\n",
        "sampling_method = KMeansSMOTE(cluster_balance_threshold=0.1, random_state=42)\n",
        "\n",
        "# Build the pipeline: preprocessing + model\n",
        "model_pipeline = ImbPipeline(steps=[\n",
        "    ('column_transformer', column_transformer),\n",
        "    ('model', svm_model)\n",
        "])\n",
        "\n",
        "# Evaluate the pipeline using cross-validation with multiple metrics\n",
        "evaluate_model(model_pipeline, model_name, Xtv, ytv, sampling_method)\n"
      ],
      "metadata": {
        "id": "9OgIHFIdnPrc",
        "colab": {
          "base_uri": "https://localhost:8080/"
        },
        "outputId": "fac27289-13cc-4d9e-e1a6-a4dff849468b"
      },
      "execution_count": 184,
      "outputs": [
        {
          "output_type": "stream",
          "name": "stdout",
          "text": [
            ">> Support Vector Machine\n",
            "\t test_accuracy 0.6700 (0.026)\n",
            "\t train_accuracy 0.6913 (0.014)\n",
            "\t test_precision 0.4524 (0.042)\n",
            "\t train_precision 0.4868 (0.023)\n",
            "\t test_recall 0.4822 (0.076)\n",
            "\t train_recall 0.5167 (0.050)\n",
            "\t test_f1 0.4651 (0.055)\n",
            "\t train_f1 0.5001 (0.029)\n",
            "\t test_roc_auc 0.6695 (0.043)\n",
            "\t train_roc_auc 0.6995 (0.018)\n",
            "\t test_gmean 0.5991 (0.046)\n",
            "\t train_gmean 0.6279 (0.025)\n"
          ]
        }
      ]
    },
    {
      "cell_type": "markdown",
      "source": [
        "**Observation:**\n",
        "\n",
        "This pipeline combines feature preprocessing, oversampling using KMeansSMOTE, and a Support Vector Machine with an RBF kernel. The model achieved a balanced performance across all metrics, with test F1-score at 0.4651 and G-mean at 0.5991. Although not the highest, these results are competitive given the class imbalance. The use of class_weight='balanced' helps mitigate this issue during training."
      ],
      "metadata": {
        "id": "MJlSiNyyFlqs"
      }
    },
    {
      "cell_type": "markdown",
      "metadata": {
        "id": "4JkGo57zMXqn"
      },
      "source": [
        "#Final Evaluation and Feature Importance for Best Model"
      ]
    },
    {
      "cell_type": "code",
      "source": [
        "from sklearn.metrics import classification_report\n",
        "\n",
        "print(\"The SMOTETomek undersampling technique was used.\")\n",
        "\n",
        "# Define the best model (MLP with specified hyperparameters)\n",
        "best_model = MLPClassifier(\n",
        "    hidden_layer_sizes=(6, 4),\n",
        "    max_iter=20000,\n",
        "    alpha=0.001,\n",
        "    solver='adam',\n",
        "    learning_rate_init=0.0001,\n",
        "    random_state=42,\n",
        ")\n",
        "\n",
        "# Resampling strategy\n",
        "resampling_strategy = SMOTETomek(random_state=42)\n",
        "\n",
        "# Complete pipeline with preprocessing and resampling\n",
        "pipeline_best = ImbPipeline(steps=[\n",
        "    ('column_transformer', column_transformer),\n",
        "    ('resampling', resampling_strategy),\n",
        "    ('model', best_model)\n",
        "])\n",
        "\n",
        "# Fit the pipeline to the training data\n",
        "pipeline_best.fit(Xtrain, ytrain)\n",
        "\n",
        "# Feature importance using permutation\n",
        "importance = permutation_importance(pipeline_best, Xtrain, ytrain, n_repeats=10)\n",
        "\n",
        "# Generate predictions and report\n",
        "y_pred = pipeline_best.predict(Xtest)\n",
        "print(classification_report(ytest, y_pred))\n",
        "\n",
        "# Display permutation importances\n",
        "for i, imp in enumerate(importance.importances_mean):\n",
        "    std = importance.importances_std[i]\n",
        "    print(f\"Feature {i}: {imp:.4f} ± {std:.4f}\")\n",
        "\n",
        "# Plot importance\n",
        "plt.bar(range(len(importance.importances_mean)), importance.importances_mean)\n",
        "plt.title(\"Permutation Feature Importances\")\n",
        "plt.xlabel(\"Feature Index\")\n",
        "plt.ylabel(\"Mean Importance\")\n",
        "plt.tight_layout()\n",
        "plt.show()\n"
      ],
      "metadata": {
        "id": "R-UflBezs4q2",
        "colab": {
          "base_uri": "https://localhost:8080/",
          "height": 1000
        },
        "outputId": "d2e9221f-c8da-4274-ef02-aea877c97062"
      },
      "execution_count": 185,
      "outputs": [
        {
          "output_type": "stream",
          "name": "stdout",
          "text": [
            "The SMOTETomek undersampling technique was used.\n",
            "              precision    recall  f1-score   support\n",
            "\n",
            "           0       0.80      0.71      0.75       210\n",
            "           1       0.46      0.58      0.51        90\n",
            "\n",
            "    accuracy                           0.67       300\n",
            "   macro avg       0.63      0.64      0.63       300\n",
            "weighted avg       0.70      0.67      0.68       300\n",
            "\n",
            "Feature 0: 0.0000 ± 0.0000\n",
            "Feature 1: 0.0847 ± 0.0100\n",
            "Feature 2: 0.0634 ± 0.0079\n",
            "Feature 3: 0.0307 ± 0.0077\n",
            "Feature 4: 0.0114 ± 0.0047\n",
            "Feature 5: 0.0000 ± 0.0000\n",
            "Feature 6: 0.0000 ± 0.0000\n",
            "Feature 7: 0.0000 ± 0.0000\n",
            "Feature 8: 0.0026 ± 0.0062\n",
            "Feature 9: 0.0017 ± 0.0035\n",
            "Feature 10: 0.0000 ± 0.0000\n",
            "Feature 11: 0.0000 ± 0.0000\n",
            "Feature 12: 0.0046 ± 0.0065\n",
            "Feature 13: 0.0000 ± 0.0000\n",
            "Feature 14: 0.0000 ± 0.0000\n",
            "Feature 15: 0.0000 ± 0.0000\n",
            "Feature 16: 0.0000 ± 0.0000\n",
            "Feature 17: 0.0116 ± 0.0062\n",
            "Feature 18: 0.0207 ± 0.0064\n",
            "Feature 19: 0.0054 ± 0.0032\n"
          ]
        },
        {
          "output_type": "display_data",
          "data": {
            "text/plain": [
              "<Figure size 640x480 with 1 Axes>"
            ],
            "image/png": "[encoded data removed]"
          },
          "metadata": {}
        }
      ]
    },
    {
      "cell_type": "markdown",
      "source": [
        "**Observation:**\n",
        "\n",
        "The final model, an MLP classifier trained with SMOTETomek, achieved a test accuracy of 67%. It showed stronger performance on the majority class (precision: 0.80, recall: 0.71), but lower recall on the minority class (0.58), which may lead to some false negatives. Permutation importance indicates that only a few features had meaningful impact, suggesting potential redundancy or irrelevance in others."
      ],
      "metadata": {
        "id": "yRw3PJKIGKPw"
      }
    },
    {
      "cell_type": "code",
      "source": [
        "# Plotting ROC and Precision-Recall curves for the selected final pipeline.\n",
        "\n",
        "# ROC Curve\n",
        "roc_display = RocCurveDisplay.from_estimator(pipeline_best, Xtest, ytest, name='MLP Classifier')\n",
        "plt.plot([0, 0, 1, 0], [0, 1, 1, 0], 'y--', label='Reference Triangle')\n",
        "plt.title(\"ROC Curve\")\n",
        "plt.legend()\n",
        "plt.show()\n",
        "\n",
        "# Precision-Recall Curve\n",
        "PrecisionRecallDisplay.from_estimator(pipeline_best, Xtest, ytest, name='MLP Classifier')\n",
        "plt.plot([0, 1, 1, 0], [1, 0, 1, 1], 'y--', label='Reference Area')\n",
        "plt.title(\"Precision-Recall Curve\")\n",
        "plt.legend(loc=\"upper right\")\n",
        "plt.show()\n",
        "\n"
      ],
      "metadata": {
        "colab": {
          "base_uri": "https://localhost:8080/",
          "height": 927
        },
        "id": "3iIsMJOElTYs",
        "outputId": "c25b3b3f-cb46-4054-dde8-c00b02b7c49e"
      },
      "execution_count": 186,
      "outputs": [
        {
          "output_type": "display_data",
          "data": {
            "text/plain": [
              "<Figure size 640x480 with 1 Axes>"
            ],
            "image/png": "[encoded data removed]"
          },
          "metadata": {}
        },
        {
          "output_type": "display_data",
          "data": {
            "text/plain": [
              "<Figure size 640x480 with 1 Axes>"
            ],
            "image/png": "[encoded data removed]"
          },
          "metadata": {}
        }
      ]
    },
    {
      "cell_type": "markdown",
      "source": [
        "**Observation:**\n",
        "\n",
        "The ROC AUC score of 0.69 suggests the classifier has moderate discrimination ability between classes. However, the average precision (AP) of 0.49 indicates limited performance in correctly identifying the minority class. This highlights the challenge of imbalanced classification despite resampling and careful model tuning."
      ],
      "metadata": {
        "id": "e_8cHawJItWp"
      }
    },
    {
      "cell_type": "code",
      "source": [
        "evaluate_model(pipeline_best, \"MLP Best Model\", Xtv, ytv, resampling_strategy)"
      ],
      "metadata": {
        "colab": {
          "base_uri": "https://localhost:8080/"
        },
        "id": "nVy3S618IdS-",
        "outputId": "a8231215-879a-4afa-caa1-f2456b495784"
      },
      "execution_count": 187,
      "outputs": [
        {
          "output_type": "stream",
          "name": "stdout",
          "text": [
            ">> MLP Best Model\n",
            "\t test_accuracy 0.6957 (0.027)\n",
            "\t train_accuracy 0.7217 (0.012)\n",
            "\t test_precision 0.4948 (0.038)\n",
            "\t train_precision 0.5313 (0.018)\n",
            "\t test_recall 0.5900 (0.049)\n",
            "\t train_recall 0.6272 (0.023)\n",
            "\t test_f1 0.5377 (0.039)\n",
            "\t train_f1 0.5749 (0.013)\n",
            "\t test_roc_auc 0.7164 (0.027)\n",
            "\t train_roc_auc 0.7553 (0.011)\n",
            "\t test_gmean 0.6606 (0.032)\n",
            "\t train_gmean 0.6912 (0.011)\n"
          ]
        }
      ]
    },
    {
      "cell_type": "markdown",
      "metadata": {
        "id": "R7s7iDgKYEn9"
      },
      "source": [
        "**Conclusion**\n",
        "\n",
        "The evaluation focused on Recall, Precision, and F1-score, prioritizing the identification of bad clients (minority class) through Recall to mitigate financial risk. Precision was then considered to avoid rejecting too many good clients. Among all models, the MLP classifier achieved the best balance across these metrics, with the highest F1-score.\n",
        "\n",
        "Additionally, overfitting was ruled out by ensuring that metric differences between training and validation sets remained below 3%.\n"
      ]
    }
  ],
  "metadata": {
    "colab": {
      "provenance": [],
      "collapsed_sections": [
        "a08Di3GjkL1Y",
        "LckYCS8SlnFo",
        "qQx2lbzTkEsQ",
        "ocmGcSC2j_2x",
        "zb5bE4WJj8Rw",
        "UJokj9Diyeu0",
        "hZxyRbHL0gNF",
        "j60KvQ0LjcgO",
        "2x_t7QR3rqeX",
        "YA89QvpWrxHW",
        "vqZs2-isr3JG",
        "CJiZcCyGr9Km",
        "gDtBaZTxsDRe",
        "OIkSmzaPsOiN",
        "4JkGo57zMXqn",
        "d8cEISnQs8Ol"
      ]
    },
    "kernelspec": {
      "display_name": "Python 3 (ipykernel)",
      "language": "python",
      "name": "python3"
    },
    "language_info": {
      "codemirror_mode": {
        "name": "ipython",
        "version": 3
      },
      "file_extension": ".py",
      "mimetype": "text/x-python",
      "name": "python",
      "nbconvert_exporter": "python",
      "pygments_lexer": "ipython3",
      "version": "3.9.13"
    }
  },
  "nbformat": 4,
  "nbformat_minor": 0
}