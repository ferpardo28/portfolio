{
  "cells": [
    {
      "cell_type": "markdown",
      "metadata": {
        "id": "-hVND8xY2OKY"
      },
      "source": [
        "# **## Analyzing Audio Transcriptions with LDA and Large Language Models**\n"
      ]
    },
    {
      "cell_type": "code",
      "execution_count": 1,
      "metadata": {
        "colab": {
          "base_uri": "https://localhost:8080/"
        },
        "id": "fe5SsCB_adkB",
        "outputId": "1ddde85d-3326-443c-def1-27f138e971cb"
      },
      "outputs": [
        {
          "output_type": "stream",
          "name": "stdout",
          "text": [
            "Requirement already satisfied: scipy in /usr/local/lib/python3.11/dist-packages (1.16.0)\n",
            "Requirement already satisfied: numpy<2.6,>=1.25.2 in /usr/local/lib/python3.11/dist-packages (from scipy) (1.26.4)\n",
            "Requirement already satisfied: gensim in /usr/local/lib/python3.11/dist-packages (4.3.3)\n",
            "Requirement already satisfied: numpy<2.0,>=1.18.5 in /usr/local/lib/python3.11/dist-packages (from gensim) (1.26.4)\n",
            "Collecting scipy<1.14.0,>=1.7.0 (from gensim)\n",
            "  Using cached scipy-1.13.1-cp311-cp311-manylinux_2_17_x86_64.manylinux2014_x86_64.whl.metadata (60 kB)\n",
            "Requirement already satisfied: smart-open>=1.8.1 in /usr/local/lib/python3.11/dist-packages (from gensim) (7.3.0)\n",
            "Requirement already satisfied: wrapt in /usr/local/lib/python3.11/dist-packages (from smart-open>=1.8.1->gensim) (1.17.2)\n",
            "Using cached scipy-1.13.1-cp311-cp311-manylinux_2_17_x86_64.manylinux2014_x86_64.whl (38.6 MB)\n",
            "Installing collected packages: scipy\n",
            "  Attempting uninstall: scipy\n",
            "    Found existing installation: scipy 1.16.0\n",
            "    Uninstalling scipy-1.16.0:\n",
            "      Successfully uninstalled scipy-1.16.0\n",
            "\u001b[31mERROR: pip's dependency resolver does not currently take into account all the packages that are installed. This behaviour is the source of the following dependency conflicts.\n",
            "tsfresh 0.21.0 requires scipy>=1.14.0; python_version >= \"3.10\", but you have scipy 1.13.1 which is incompatible.\u001b[0m\u001b[31m\n",
            "\u001b[0mSuccessfully installed scipy-1.13.1\n"
          ]
        }
      ],
      "source": [
        "!pip install scipy --upgrade\n",
        "!pip install gensim --upgrade"
      ]
    },
    {
      "cell_type": "markdown",
      "source": [
        "## Download and Analyze Audio Files from Gutenberg"
      ],
      "metadata": {
        "id": "cp2BUeAH4fP2"
      }
    },
    {
      "cell_type": "code",
      "execution_count": 2,
      "metadata": {
        "ExecuteTime": {
          "end_time": "2025-06-01T19:24:28.740127Z",
          "start_time": "2025-06-01T19:23:55.481357Z"
        },
        "colab": {
          "base_uri": "https://localhost:8080/"
        },
        "id": "Bfs5Zxc9j7Uf",
        "outputId": "740b53ef-7bd4-4920-e79e-d0dd0192aab1"
      },
      "outputs": [
        {
          "output_type": "stream",
          "name": "stdout",
          "text": [
            "The file fabula_01.mp3 already exists, it will not be downloaded again.\n",
            "The file fabula_04.mp3 already exists, it will not be downloaded again.\n",
            "The file fabula_05.mp3 already exists, it will not be downloaded again.\n",
            "The file fabula_06.mp3 already exists, it will not be downloaded again.\n",
            "The file fabula_14.mp3 already exists, it will not be downloaded again.\n",
            "The file fabula_22.mp3 already exists, it will not be downloaded again.\n",
            "The file fabula_24.mp3 already exists, it will not be downloaded again.\n",
            "The file fabula_25.mp3 already exists, it will not be downloaded again.\n",
            "The file fabula_26.mp3 already exists, it will not be downloaded again.\n",
            "The file fabula_27.mp3 already exists, it will not be downloaded again.\n",
            "File: fabula_05.mp3, Duration: 58.44 seconds\n",
            "File: fabula_04.mp3, Duration: 67.08 seconds\n",
            "File: fabula_22.mp3, Duration: 57.21 seconds\n",
            "File: fabula_06.mp3, Duration: 71.76 seconds\n",
            "File: fabula_27.mp3, Duration: 60.26 seconds\n",
            "File: fabula_26.mp3, Duration: 63.66 seconds\n",
            "File: fabula_01.mp3, Duration: 72.59 seconds\n",
            "File: fabula_25.mp3, Duration: 56.53 seconds\n",
            "File: fabula_14.mp3, Duration: 58.12 seconds\n",
            "File: fabula_24.mp3, Duration: 64.50 seconds\n"
          ]
        }
      ],
      "source": [
        "import requests\n",
        "import os\n",
        "import librosa\n",
        "\n",
        "# List of audio files to download\n",
        "audio_files = [\n",
        "    \"01\",\n",
        "    \"04\",\n",
        "    \"05\",\n",
        "    \"06\",\n",
        "    \"14\",\n",
        "    \"22\",\n",
        "    \"24\",\n",
        "    \"25\",\n",
        "    \"26\",\n",
        "    \"27\"\n",
        "]\n",
        "\n",
        "# Base URL of the Gutenberg site\n",
        "base_url = \"https://www.gutenberg.org/files/21144/mp3/21144-\"\n",
        "# Path where audio files will be saved\n",
        "download_path = \"audios_fabulas_esopo\"\n",
        "\n",
        "# Create directory if it doesn't exist\n",
        "if not os.path.exists(download_path):\n",
        "    os.makedirs(download_path)\n",
        "\n",
        "# Download each file if not already present\n",
        "for file in audio_files:\n",
        "    # Skip download if file already exists\n",
        "    if os.path.exists(os.path.join(download_path, f\"fabula_{file}.mp3\")):\n",
        "        print(f\"The file fabula_{file}.mp3 already exists, it will not be downloaded again.\")\n",
        "        continue\n",
        "    url = f\"{base_url}{file}.mp3\"\n",
        "    respuesta = requests.get(url)\n",
        "    if respuesta.status_code == 200:\n",
        "        file_path = os.path.join(download_path, f\"fabula_{file}.mp3\")\n",
        "        with open(file_path, 'wb') as f:\n",
        "            f.write(respuesta.content)\n",
        "        print(f\"Downloaded: {file_path}\")\n",
        "    else:\n",
        "        print(f\"Could not download the file: {file}\")\n",
        "        print(f\"Status: {respuesta.status_code} - {respuesta.reason}\")\n",
        "\n",
        "# Display audio duration using librosa\n",
        "downloaded_files = os.listdir(download_path)\n",
        "\n",
        "for file in downloaded_files:\n",
        "    if file.endswith(\".mp3\"):\n",
        "        file_path = os.path.join(download_path, file)\n",
        "        y, sr = librosa.load(file_path, sr=None)\n",
        "        duracion = librosa.get_duration(y=y, sr=sr)\n",
        "        print(f\"File: {file}, Duration: {duracion:.2f} seconds\")\n",
        "\n"
      ]
    },
    {
      "cell_type": "markdown",
      "metadata": {
        "id": "6uYgtCvvJSmq"
      },
      "source": [
        "## Transcribe Audio Files Using Whisper API"
      ]
    },
    {
      "cell_type": "code",
      "execution_count": 3,
      "metadata": {
        "colab": {
          "base_uri": "https://localhost:8080/"
        },
        "id": "svIGIPzv1Fdf",
        "outputId": "9572ffaa-4e7d-4795-d22d-02066746ae87"
      },
      "outputs": [
        {
          "output_type": "stream",
          "name": "stdout",
          "text": [
            "Transcription of file 01:\n",
            "Transcription(text='Las fábulas de Sopo Grabado para LibriVox.org por Paulino www.paulino.info Fábula número 61 El lobo y el cordero en el templo Dándose cuenta de que era perseguido por un lobo, un pequeño corderito decidió refugiarse en un templo cercano. Lo llamó lobo y le dijo que si el sacrificador lo encontraba allí adentro, lo inmolaría a su dios. Mejor así, replicó el cordero, prefiero ser víctima para un dios a tener que perecer en tus colmillos. Si sin remedio vamos a ser sacrificados, más nos vale que sea con el mayor honor. Fin de la fábula Esta es una grabación del dominio público.', logprobs=None, usage=UsageDuration(duration=None, type='duration', seconds=73))\n",
            "Transcription of file 04:\n",
            "Transcription(text='Las fábulas de Esopo, grabado para LibriVox.org por Roberto Antonio Muñoz, fábula número 64, El Lobo y la Cruz. A un lobo que comía un hueso, se le atragantó el hueso en la garganta y corría por todas partes en busca de auxilio. Encontró en su correra a una grulla y le pidió que le salvara de aquella situación y que enseguida le pagaría por ello. Aceptó la grulla e introdujo su cabeza en la boca del lobo, sacando de la garganta el hueso atravesado. Pidió entonces la cancelación de la paga convenida. Oye, amiga, dijo el lobo, ¿no crees que es suficiente paga con haber sacado tu cabeza sana y salva de mi boca? Nunca hagas favores a malvados, traficantes o corruptos, pues mucha paga tendrías si te dejan sano y salvo. Fin de fábula. Esta grabación es de dominio público.', logprobs=None, usage=UsageDuration(duration=None, type='duration', seconds=68))\n",
            "Transcription of file 05:\n",
            "Transcription(text='Las fábulas de Sopo. Grabado para LibriVox.org por Karen Savage. Fábula número 65. El lobo y el caballo. Pasaba un lobo por un sembrado de cebada, pero como no era comida de su gusto, la dejó y siguió su camino. Encontró al rato a un caballo y le llevó al campo comentándole la gran cantidad de cebada que había hallado, pero que en vez de comérsela a él, mejor se la había dejado porque le agradaba más oír el ruido de sus dientes al masticarla. Pero el caballo le repuso. Amigo, si los lobos comieran cebada, no hubieras preferido complacer a tus oídos sino a tu estómago. A todo malvado, aunque parezca actuar como bueno, no debe de creérsele. Fin de fábula. Esta grabación es de dominio público. Subtítulos realizados por la comunidad de Amara.org', logprobs=None, usage=UsageDuration(duration=None, type='duration', seconds=59))\n",
            "Transcription of file 06:\n",
            "Transcription(text='Las fábulas de Esopo, grabado para LibriVox.org por Alejandro González Calderón. Fábula número 66. El Lobo y el Asno. Un lobo fue elegido rey entre sus congéneres y decretó una ley ordenando que lo que cada uno capturase en la casa, lo pusiera en común y lo repartiese por partes iguales entre todos. De esta manera ya no tendrían los lobos que devorarse unos a otros en épocas de hambre. Pero en eso le escuchó un asno, que estaba por ahí cerca, y moviendo sus orejas le dijo ¡Magnífica idea ha brotado de tu corazón! Pero, ¿por qué has escondido todo tu botín en tu cueva? Llévalo a la comunidad y repártelo también como lo has decretado. El lobo, descubierto y confundido, derogó su ley. Si alguna vez llegas a tener poder de legislar, sé el primero en cumplir tus propias leyes. Fin de la fábula. Esta grabación es de dominio público.', logprobs=None, usage=UsageDuration(duration=None, type='duration', seconds=72))\n",
            "Transcription of file 14:\n",
            "Transcription(text='Las fábulas de Sopo. Grabado para LibriVox.org por El Ochito. Fábula número 74. El Lobo y el Cabrito Encerrado. Protegido por la seguridad del corral de una casa, un cabrito vio pasar a un lobo y comenzó a insultarle burlándose ampliamente de él. El lobo serenamente le replicó. ¡Infeliz! Sé que no eres tú quien me está insultando, sino el sitio en que te encuentras. Muy a menudo no es el valor, sino la ocasión y el lugar quienes proveen el enfrentamiento arrogante ante los poderosos. Fin de la fábula. Esta grabación es del dominio público. Subtítulos realizados por la comunidad de Amara.org', logprobs=None, usage=UsageDuration(duration=None, type='duration', seconds=59))\n",
            "Transcription of file 22:\n",
            "Transcription(text='Las fábulas de Esopo. Grabado para LibriVox.org por El Ochito. Fábula número 82. El perro y la almeja. Un perro de esos, acostumbrados a comer huevos, al ver una almeja, no lo pensó dos veces, y creyendo que se trataba de un huevo, se la tragó inmediatamente. Desgarradas luego sus entrañas, se sintió muy mal, y se dijo, bien merecido lo tengo, por creer que todo lo que veo redondo son huevos. Nunca tomes un asunto sin antes reflexionar, para no entrar luego en extrañas dificultades. Fin de la fábula. Esta grabación es del dominio público. Subtítulos realizados por la comunidad de Amara.org', logprobs=None, usage=UsageDuration(duration=None, type='duration', seconds=58))\n",
            "Transcription of file 24:\n",
            "Transcription(text='Las fábulas de Sopo. Grabado para LibriVox.org por Karen Savich. Fábula número 84. El perro y el reflejo en el río. Badeaba un perro un río, llevando en su hocico un sabroso pedazo de carne. Vio su propio reflejo en el agua del río y creyó que aquel reflejo era, en realidad, otro perro que llevaba un trozo de carne mayor que el suyo. Y deseando adueñarse del pedazo ajeno, soltó el suyo para arrebatar el trozo a su supuesto compadre. Pero el resultado fue que se quedó sin el propio y sin el ajeno. Este porque no existía, solo era un reflejo, y el otro, el verdadero, porque se lo llevó a la corriente. Nunca codices el bien ajeno, pues puedes perder lo que ya has adquirido con tu esfuerzo. Fin de fábula. Esta grabación es de dominio público.', logprobs=None, usage=UsageDuration(duration=None, type='duration', seconds=65))\n",
            "Transcription of file 25:\n",
            "Transcription(text='Las fábulas de Sopo, grabado para Librevox.org Fábula número 85, El perro y el carnicero Penetró un perro en una carnicería, y notando que el carnicero estaba muy ocupado con sus clientes, cogió un trozo de carne y salió corriendo. Se volvió el carnicero, y viéndole huir, y sin poder hacer ni nada, exclamó, —¡Oye, amigo! Ahí donde te encuentre, no dejaré de mirarte. No esperes a que suceda un accidente para pensar en cómo evitarlo. Fin de fábula. Esta grabación es del dominio público. Subtítulos realizados por la comunidad de Amara.org', logprobs=None, usage=UsageDuration(duration=None, type='duration', seconds=57))\n",
            "Transcription of file 26:\n",
            "Transcription(text='Las fábulas de Esopo. Grabado para LibriVox.org por El Ochito. Fábula número 86. El perro con campanilla. Había un perro que acostumbraba a morder sin razón. Le puso su amo una campanilla para advertirle a la gente de su presencia cercana. Y el can, sonando la campanilla, se fue a la plaza pública a presumir. Mas una sabia perra, ya avanzada de años, le dijo. ¿De qué presumes tanto, amigo? Sé que no llevas esa campanilla por tus grandes virtudes, sino para anunciar tu maldad oculta. Los halagos que se hacen a sí mismo, los fanfarrones, sólo delatan sus mayores defectos. Fin de la fábula. Esta grabación es del dominio público. Subtítulos realizados por la comunidad de Amara.org', logprobs=None, usage=UsageDuration(duration=None, type='duration', seconds=64))\n",
            "Transcription of file 27:\n",
            "Transcription(text='Las fábulas de Esopo. Grabado para LibriVox.org por Elo Chito. Fábula número 87 El perro que perseguía al león. Un perro de casa se encontró con un león y partió en su persecución. Pero el león se volvió rugiendo y el perro, todo atemorizado, retrocedió rápidamente por el mismo camino. Le vio una zorra y le dijo, ¡Perro infeliz! Primero perseguías al león y ya ni siquiera soportas sus surgidos. Cuando entres a una empresa, mantente siempre listo a afrontar imprevistos que no te imaginabas. Fin de la fábula. Esta grabación es del dominio público. Subtítulos realizados por la comunidad de Amara.org', logprobs=None, usage=UsageDuration(duration=None, type='duration', seconds=61))\n",
            "fable_01: Las fábulas de Sopo Grabado para LibriVox.org por Paulino www.paulino.info Fábula número 61 El lobo y el cordero en el templo Dándose cuenta de que era perseguido por un lobo, un pequeño corderito decidió refugiarse en un templo cercano. Lo llamó lobo y le dijo que si el sacrificador lo encontraba allí adentro, lo inmolaría a su dios. Mejor así, replicó el cordero, prefiero ser víctima para un dios a tener que perecer en tus colmillos. Si sin remedio vamos a ser sacrificados, más nos vale que sea con el mayor honor. Fin de la fábula Esta es una grabación del dominio público.\n",
            "\n",
            "fable_04: Las fábulas de Esopo, grabado para LibriVox.org por Roberto Antonio Muñoz, fábula número 64, El Lobo y la Cruz. A un lobo que comía un hueso, se le atragantó el hueso en la garganta y corría por todas partes en busca de auxilio. Encontró en su correra a una grulla y le pidió que le salvara de aquella situación y que enseguida le pagaría por ello. Aceptó la grulla e introdujo su cabeza en la boca del lobo, sacando de la garganta el hueso atravesado. Pidió entonces la cancelación de la paga convenida. Oye, amiga, dijo el lobo, ¿no crees que es suficiente paga con haber sacado tu cabeza sana y salva de mi boca? Nunca hagas favores a malvados, traficantes o corruptos, pues mucha paga tendrías si te dejan sano y salvo. Fin de fábula. Esta grabación es de dominio público.\n",
            "\n",
            "fable_05: Las fábulas de Sopo. Grabado para LibriVox.org por Karen Savage. Fábula número 65. El lobo y el caballo. Pasaba un lobo por un sembrado de cebada, pero como no era comida de su gusto, la dejó y siguió su camino. Encontró al rato a un caballo y le llevó al campo comentándole la gran cantidad de cebada que había hallado, pero que en vez de comérsela a él, mejor se la había dejado porque le agradaba más oír el ruido de sus dientes al masticarla. Pero el caballo le repuso. Amigo, si los lobos comieran cebada, no hubieras preferido complacer a tus oídos sino a tu estómago. A todo malvado, aunque parezca actuar como bueno, no debe de creérsele. Fin de fábula. Esta grabación es de dominio público. Subtítulos realizados por la comunidad de Amara.org\n",
            "\n",
            "fable_06: Las fábulas de Esopo, grabado para LibriVox.org por Alejandro González Calderón. Fábula número 66. El Lobo y el Asno. Un lobo fue elegido rey entre sus congéneres y decretó una ley ordenando que lo que cada uno capturase en la casa, lo pusiera en común y lo repartiese por partes iguales entre todos. De esta manera ya no tendrían los lobos que devorarse unos a otros en épocas de hambre. Pero en eso le escuchó un asno, que estaba por ahí cerca, y moviendo sus orejas le dijo ¡Magnífica idea ha brotado de tu corazón! Pero, ¿por qué has escondido todo tu botín en tu cueva? Llévalo a la comunidad y repártelo también como lo has decretado. El lobo, descubierto y confundido, derogó su ley. Si alguna vez llegas a tener poder de legislar, sé el primero en cumplir tus propias leyes. Fin de la fábula. Esta grabación es de dominio público.\n",
            "\n",
            "fable_14: Las fábulas de Sopo. Grabado para LibriVox.org por El Ochito. Fábula número 74. El Lobo y el Cabrito Encerrado. Protegido por la seguridad del corral de una casa, un cabrito vio pasar a un lobo y comenzó a insultarle burlándose ampliamente de él. El lobo serenamente le replicó. ¡Infeliz! Sé que no eres tú quien me está insultando, sino el sitio en que te encuentras. Muy a menudo no es el valor, sino la ocasión y el lugar quienes proveen el enfrentamiento arrogante ante los poderosos. Fin de la fábula. Esta grabación es del dominio público. Subtítulos realizados por la comunidad de Amara.org\n",
            "\n",
            "fable_22: Las fábulas de Esopo. Grabado para LibriVox.org por El Ochito. Fábula número 82. El perro y la almeja. Un perro de esos, acostumbrados a comer huevos, al ver una almeja, no lo pensó dos veces, y creyendo que se trataba de un huevo, se la tragó inmediatamente. Desgarradas luego sus entrañas, se sintió muy mal, y se dijo, bien merecido lo tengo, por creer que todo lo que veo redondo son huevos. Nunca tomes un asunto sin antes reflexionar, para no entrar luego en extrañas dificultades. Fin de la fábula. Esta grabación es del dominio público. Subtítulos realizados por la comunidad de Amara.org\n",
            "\n",
            "fable_24: Las fábulas de Sopo. Grabado para LibriVox.org por Karen Savich. Fábula número 84. El perro y el reflejo en el río. Badeaba un perro un río, llevando en su hocico un sabroso pedazo de carne. Vio su propio reflejo en el agua del río y creyó que aquel reflejo era, en realidad, otro perro que llevaba un trozo de carne mayor que el suyo. Y deseando adueñarse del pedazo ajeno, soltó el suyo para arrebatar el trozo a su supuesto compadre. Pero el resultado fue que se quedó sin el propio y sin el ajeno. Este porque no existía, solo era un reflejo, y el otro, el verdadero, porque se lo llevó a la corriente. Nunca codices el bien ajeno, pues puedes perder lo que ya has adquirido con tu esfuerzo. Fin de fábula. Esta grabación es de dominio público.\n",
            "\n",
            "fable_25: Las fábulas de Sopo, grabado para Librevox.org Fábula número 85, El perro y el carnicero Penetró un perro en una carnicería, y notando que el carnicero estaba muy ocupado con sus clientes, cogió un trozo de carne y salió corriendo. Se volvió el carnicero, y viéndole huir, y sin poder hacer ni nada, exclamó, —¡Oye, amigo! Ahí donde te encuentre, no dejaré de mirarte. No esperes a que suceda un accidente para pensar en cómo evitarlo. Fin de fábula. Esta grabación es del dominio público. Subtítulos realizados por la comunidad de Amara.org\n",
            "\n",
            "fable_26: Las fábulas de Esopo. Grabado para LibriVox.org por El Ochito. Fábula número 86. El perro con campanilla. Había un perro que acostumbraba a morder sin razón. Le puso su amo una campanilla para advertirle a la gente de su presencia cercana. Y el can, sonando la campanilla, se fue a la plaza pública a presumir. Mas una sabia perra, ya avanzada de años, le dijo. ¿De qué presumes tanto, amigo? Sé que no llevas esa campanilla por tus grandes virtudes, sino para anunciar tu maldad oculta. Los halagos que se hacen a sí mismo, los fanfarrones, sólo delatan sus mayores defectos. Fin de la fábula. Esta grabación es del dominio público. Subtítulos realizados por la comunidad de Amara.org\n",
            "\n",
            "fable_27: Las fábulas de Esopo. Grabado para LibriVox.org por Elo Chito. Fábula número 87 El perro que perseguía al león. Un perro de casa se encontró con un león y partió en su persecución. Pero el león se volvió rugiendo y el perro, todo atemorizado, retrocedió rápidamente por el mismo camino. Le vio una zorra y le dijo, ¡Perro infeliz! Primero perseguías al león y ya ni siquiera soportas sus surgidos. Cuando entres a una empresa, mantente siempre listo a afrontar imprevistos que no te imaginabas. Fin de la fábula. Esta grabación es del dominio público. Subtítulos realizados por la comunidad de Amara.org\n",
            "\n"
          ]
        }
      ],
      "source": [
        "from openai import OpenAI\n",
        "from google.colab import userdata\n",
        "\n",
        "OPENAI_API_KEY = userdata.get('OPENAI_API_KEY')\n",
        "client = OpenAI(api_key=OPENAI_API_KEY)\n",
        "\n",
        "def transcribe_audio(file):\n",
        "    with open(file, 'rb') as audio_file:\n",
        "        response = client.audio.transcriptions.create(\n",
        "            model=\"whisper-1\",\n",
        "            file=audio_file,\n",
        "            language=\"es\"\n",
        "        )\n",
        "    return response\n",
        "\n",
        "audio_files_paths = [os.path.join(download_path, file) for file in downloaded_files if file.endswith('.mp3')]\n",
        "\n",
        "transcriptions = {}\n",
        "\n",
        "for file in audio_files_paths:\n",
        "    transcriptions[file] = transcribe_audio(file)\n",
        "\n",
        "# Print transcriptions\n",
        "for file_id in audio_files:\n",
        "    print(f\"Transcription of file {file_id}:\")\n",
        "    print(transcriptions[os.path.join(download_path, f'fabula_{file_id}.mp3')])\n",
        "\n",
        "\n",
        "# Dictionary of transcriptions and audio\n",
        "transcriptions_text = {f\"fable_{archivo}\": transcriptions[os.path.join(download_path, f'fabula_{archivo}.mp3')].text for archivo in audio_files}\n",
        "# Imprimiendo un ejemplo del diccionario\n",
        "for key, value in transcriptions_text.items():\n",
        "    print(f\"{key}: {value}\\n\")\n"
      ]
    },
    {
      "cell_type": "markdown",
      "metadata": {
        "id": "NM0D83j8EWiN"
      },
      "source": [
        "## Clean and Export Transcriptions"
      ]
    },
    {
      "cell_type": "code",
      "execution_count": 4,
      "metadata": {
        "colab": {
          "base_uri": "https://localhost:8080/"
        },
        "id": "AQ6uN6t9Boi3",
        "outputId": "f7f32d94-3a90-4b84-c32e-71053d9fd67f"
      },
      "outputs": [
        {
          "output_type": "stream",
          "name": "stderr",
          "text": [
            "[nltk_data] Downloading package stopwords to /root/nltk_data...\n",
            "[nltk_data]   Package stopwords is already up-to-date!\n"
          ]
        }
      ],
      "source": [
        "import nltk\n",
        "from nltk.corpus import stopwords\n",
        "import json\n",
        "import re\n",
        "\n",
        "nltk.download('stopwords')\n",
        "\n",
        "# Lista de stopwords en español\n",
        "stopwords_es = set(stopwords.words('spanish'))\n"
      ]
    },
    {
      "cell_type": "code",
      "execution_count": 5,
      "metadata": {
        "ExecuteTime": {
          "end_time": "2025-06-01T20:08:44.508227Z",
          "start_time": "2025-06-01T20:08:44.445284Z"
        },
        "colab": {
          "base_uri": "https://localhost:8080/"
        },
        "id": "KkbeTmeon_RP",
        "outputId": "e02308a0-88ba-4bda-f9dc-52ab7b804022"
      },
      "outputs": [
        {
          "output_type": "stream",
          "name": "stdout",
          "text": [
            "fable_01: El lobo y el cordero en el templo Dándose cuenta de que era perseguido por un lobo, un pequeño corderito decidió refugiarse en un templo cercano. Lo llamó lobo y le dijo que si el sacrificador lo encontraba allí adentro, lo inmolaría a su dios. Mejor así, replicó el cordero, prefiero ser víctima para un dios a tener que perecer en tus colmillos. Si sin remedio vamos a ser sacrificados, más nos vale que sea con el mayor honor. \n",
            "\n",
            "fable_04: El Lobo y la Cruz. A un lobo que comía un hueso, se le atragantó el hueso en la garganta y corría por todas partes en busca de auxilio. Encontró en su correra a una grulla y le pidió que le salvara de aquella situación y que enseguida le pagaría por ello. Aceptó la grulla e introdujo su cabeza en la boca del lobo, sacando de la garganta el hueso atravesado. Pidió entonces la cancelación de la paga convenida. Oye, amiga, dijo el lobo, ¿no crees que es suficiente paga con haber sacado tu cabeza sana y salva de mi boca? Nunca hagas favores a malvados, traficantes o corruptos, pues mucha paga tendrías si te dejan sano y salvo. \n",
            "\n",
            "fable_05: El lobo y el caballo. Pasaba un lobo por un sembrado de cebada, pero como no era comida de su gusto, la dejó y siguió su camino. Encontró al rato a un caballo y le llevó al campo comentándole la gran cantidad de cebada que había hallado, pero que en vez de comérsela a él, mejor se la había dejado porque le agradaba más oír el ruido de sus dientes al masticarla. Pero el caballo le repuso. Amigo, si los lobos comieran cebada, no hubieras preferido complacer a tus oídos sino a tu estómago. A todo malvado, aunque parezca actuar como bueno, no debe de creérsele. \n",
            "\n",
            "fable_06: El Lobo y el Asno. Un lobo fue elegido rey entre sus congéneres y decretó una ley ordenando que lo que cada uno capturase en la casa, lo pusiera en común y lo repartiese por partes iguales entre todos. De esta manera ya no tendrían los lobos que devorarse unos a otros en épocas de hambre. Pero en eso le escuchó un asno, que estaba por ahí cerca, y moviendo sus orejas le dijo ¡Magnífica idea ha brotado de tu corazón! Pero, ¿por qué has escondido todo tu botín en tu cueva? Llévalo a la comunidad y repártelo también como lo has decretado. El lobo, descubierto y confundido, derogó su ley. Si alguna vez llegas a tener poder de legislar, sé el primero en cumplir tus propias leyes. \n",
            "\n",
            "fable_14: El Lobo y el Cabrito Encerrado. Protegido por la seguridad del corral de una casa, un cabrito vio pasar a un lobo y comenzó a insultarle burlándose ampliamente de él. El lobo serenamente le replicó. ¡Infeliz! Sé que no eres tú quien me está insultando, sino el sitio en que te encuentras. Muy a menudo no es el valor, sino la ocasión y el lugar quienes proveen el enfrentamiento arrogante ante los poderosos. \n",
            "\n",
            "fable_22: El perro y la almeja. Un perro de esos, acostumbrados a comer huevos, al ver una almeja, no lo pensó dos veces, y creyendo que se trataba de un huevo, se la tragó inmediatamente. Desgarradas luego sus entrañas, se sintió muy mal, y se dijo, bien merecido lo tengo, por creer que todo lo que veo redondo son huevos. Nunca tomes un asunto sin antes reflexionar, para no entrar luego en extrañas dificultades. \n",
            "\n",
            "fable_24: El perro y el reflejo en el río. Badeaba un perro un río, llevando en su hocico un sabroso pedazo de carne. Vio su propio reflejo en el agua del río y creyó que aquel reflejo era, en realidad, otro perro que llevaba un trozo de carne mayor que el suyo. Y deseando adueñarse del pedazo ajeno, soltó el suyo para arrebatar el trozo a su supuesto compadre. Pero el resultado fue que se quedó sin el propio y sin el ajeno. Este porque no existía, solo era un reflejo, y el otro, el verdadero, porque se lo llevó a la corriente. Nunca codices el bien ajeno, pues puedes perder lo que ya has adquirido con tu esfuerzo. \n",
            "\n",
            "fable_25: El perro y el carnicero Penetró un perro en una carnicería, y notando que el carnicero estaba muy ocupado con sus clientes, cogió un trozo de carne y salió corriendo. Se volvió el carnicero, y viéndole huir, y sin poder hacer ni nada, exclamó, —¡Oye, amigo! Ahí donde te encuentre, no dejaré de mirarte. No esperes a que suceda un accidente para pensar en cómo evitarlo. \n",
            "\n",
            "fable_26: El perro con campanilla. Había un perro que acostumbraba a morder sin razón. Le puso su amo una campanilla para advertirle a la gente de su presencia cercana. Y el can, sonando la campanilla, se fue a la plaza pública a presumir. Mas una sabia perra, ya avanzada de años, le dijo. ¿De qué presumes tanto, amigo? Sé que no llevas esa campanilla por tus grandes virtudes, sino para anunciar tu maldad oculta. Los halagos que se hacen a sí mismo, los fanfarrones, sólo delatan sus mayores defectos. \n",
            "\n",
            "fable_27: El perro que perseguía al león. Un perro de casa se encontró con un león y partió en su persecución. Pero el león se volvió rugiendo y el perro, todo atemorizado, retrocedió rápidamente por el mismo camino. Le vio una zorra y le dijo, ¡Perro infeliz! Primero perseguías al león y ya ni siquiera soportas sus surgidos. Cuando entres a una empresa, mantente siempre listo a afrontar imprevistos que no te imaginabas. \n",
            "\n"
          ]
        }
      ],
      "source": [
        "def clean_text(text):\n",
        "    \"\"\"\n",
        "    Cleans the transcription text by removing standard introductory\n",
        "    and ending phrases, as well as the fable number prefix.\n",
        "\n",
        "    Args:\n",
        "        text (str): Raw transcription text.\n",
        "\n",
        "    Returns:\n",
        "        str: Cleaned transcription text.\n",
        "    \"\"\"\n",
        "    start_pattern = r\"(Las fábulas de E?[sS]opo[\\.\\,]? [Gg]rabado para Libr[ie][vV]ox.org)\"\n",
        "    end_pattern = r\"(Fin de la fábula|Fin de fábula)\\.? Esta (?:es una )?grabación (es )?d(?:el|e) dominio público\\. *(Subtítulos realizados por la comunidad de Amara\\.org)?\"\n",
        "\n",
        "    # Clean the text using regular expressions\n",
        "    cleaned_text = re.sub(start_pattern, \"\", text)\n",
        "    cleaned_text = re.sub(end_pattern, \"\", cleaned_text)\n",
        "\n",
        "    fable_number = r\"^.* [fF]ábula número \\d{2}[\\.,]?\\s\"\n",
        "    cleaned_text = re.sub(fable_number, \"\", cleaned_text)\n",
        "\n",
        "    return cleaned_text\n",
        "\n",
        "cleaned_transcriptions = {\n",
        "    key: clean_text(value) for key, value in transcriptions_text.items()\n",
        "}\n",
        "\n",
        "# Save cleaned transcriptions to a JSON file\n",
        "with open('cleaned_transcriptions.json', 'w', encoding='utf-8') as f:\n",
        "    json.dump(cleaned_transcriptions, f, ensure_ascii=False, indent=4)\n",
        "\n",
        "# Print cleaned transcriptions\n",
        "for key, value in cleaned_transcriptions.items():\n",
        "    print(f\"{key}: {value}\\n\")\n",
        "\n",
        "\n",
        "\n"
      ]
    },
    {
      "cell_type": "markdown",
      "metadata": {
        "id": "6PKaB_Ge0Shc"
      },
      "source": [
        "## Full Text Cleaning Function"
      ]
    },
    {
      "cell_type": "code",
      "execution_count": 6,
      "metadata": {
        "ExecuteTime": {
          "end_time": "2025-06-01T20:13:31.503879Z",
          "start_time": "2025-06-01T20:13:31.455047Z"
        },
        "colab": {
          "base_uri": "https://localhost:8080/"
        },
        "id": "pqwiCCdpq8D_",
        "outputId": "b289ad7c-b42d-4c97-df9e-9a136891cd2c"
      },
      "outputs": [
        {
          "output_type": "execute_result",
          "data": {
            "text/plain": [
              "{'fable_01': 'lobo cordero templo dándose cuenta perseguido lobo pequeño corderito decidió refugiarse templo cercano llamó lobo dijo si sacrificador encontraba allí adentro inmolaría dios mejor así replicó cordero prefiero ser víctima dios tener perecer colmillos si remedio vamos ser sacrificados vale mayor honor',\n",
              " 'fable_04': 'lobo cruz lobo comía hueso atragantó hueso garganta corría todas partes busca auxilio encontró correra grulla pidió salvara aquella situación enseguida pagaría ello aceptó grulla introdujo cabeza boca lobo sacando garganta hueso atravesado pidió entonces cancelación paga convenida oye amiga dijo lobo crees suficiente paga haber sacado cabeza sana salva boca nunca hagas favores malvados traficantes corruptos pues mucha paga si dejan sano salvo',\n",
              " 'fable_05': 'lobo caballo pasaba lobo sembrado cebada comida gusto dejó siguió camino encontró rato caballo llevó campo comentándole gran cantidad cebada hallado vez comérsela mejor dejado agradaba oír ruido dientes masticarla caballo repuso amigo si lobos comieran cebada preferido complacer oídos sino estómago malvado aunque parezca actuar bueno debe creérsele',\n",
              " 'fable_06': 'lobo asno lobo elegido rey congéneres decretó ley ordenando cada capturase casa pusiera común repartiese partes iguales manera lobos devorarse épocas hambre escuchó asno ahí cerca moviendo orejas dijo magnífica idea brotado corazón escondido botín cueva llévalo comunidad repártelo decretado lobo descubierto confundido derogó ley si alguna vez llegas tener poder legislar sé primero cumplir propias leyes',\n",
              " 'fable_14': 'lobo cabrito encerrado protegido seguridad corral casa cabrito vio pasar lobo comenzó insultarle burlándose ampliamente lobo serenamente replicó infeliz sé insultando sino sitio encuentras menudo valor sino ocasión lugar proveen enfrentamiento arrogante poderosos',\n",
              " 'fable_22': 'perro almeja perro acostumbrados comer huevos ver almeja pensó dos veces creyendo trataba huevo tragó inmediatamente desgarradas luego entrañas sintió mal dijo bien merecido creer veo redondo huevos nunca tomes asunto reflexionar entrar luego extrañas dificultades',\n",
              " 'fable_24': 'perro reflejo río badeaba perro río llevando hocico sabroso pedazo carne vio propio reflejo agua río creyó aquel reflejo realidad perro llevaba trozo carne mayor deseando adueñarse pedazo ajeno soltó arrebatar trozo supuesto compadre resultado quedó propio ajeno existía solo reflejo verdadero llevó corriente nunca codices bien ajeno pues puedes perder adquirido esfuerzo',\n",
              " 'fable_25': 'perro carnicero penetró perro carnicería notando carnicero ocupado clientes cogió trozo carne salió corriendo volvió carnicero viéndole huir poder hacer exclamó oye amigo ahí encuentre dejaré mirarte esperes suceda accidente pensar cómo evitarlo',\n",
              " 'fable_26': 'perro campanilla perro acostumbraba morder razón puso amo campanilla advertirle gente presencia cercana can sonando campanilla plaza pública presumir mas sabia perra avanzada años dijo presumes amigo sé llevas campanilla grandes virtudes sino anunciar maldad oculta halagos hacen mismo fanfarrones sólo delatan mayores defectos',\n",
              " 'fable_27': 'perro perseguía león perro casa encontró león partió persecución león volvió rugiendo perro atemorizado retrocedió rápidamente mismo camino vio zorra dijo perro infeliz primero perseguías león siquiera soportas surgidos entres empresa mantente siempre listo afrontar imprevistos imaginabas'}"
            ]
          },
          "metadata": {},
          "execution_count": 6
        }
      ],
      "source": [
        "def clean_full_text(text):\n",
        "    \"\"\"\n",
        "    Performs full cleaning of transcription text by removing leading/trailing spaces,\n",
        "    newlines, punctuation, and stopwords. Also converts to lowercase.\n",
        "\n",
        "    Args:\n",
        "        text (str): The raw transcription text.\n",
        "\n",
        "    Returns:\n",
        "        str: Cleaned and normalized text.\n",
        "    \"\"\"\n",
        "    # Remove leading/trailing whitespace\n",
        "    text = text.strip()\n",
        "\n",
        "    # Remove unnecessary newlines\n",
        "    text = re.sub(r'\\n+', ' ', text)\n",
        "\n",
        "    # Replace multiple spaces with a single space\n",
        "    text = re.sub(r'\\s+', ' ', text)\n",
        "\n",
        "    # Remove everything except letters and spaces\n",
        "    text = re.sub(r\"[^a-zA-ZáéíóúüñÁÉÍÓÚÜÑ\\s]\", \"\", text)\n",
        "\n",
        "    # Convert to lowercase (optional, depending on downstream analysis)\n",
        "    text = text.lower()\n",
        "\n",
        "    # Remove stopwords\n",
        "    tokens = text.split()\n",
        "    filtered_tokens = [t for t in tokens if t not in stopwords_es]\n",
        "    text = ' '.join(filtered_tokens)\n",
        "\n",
        "    return text\n",
        "\n",
        "\n",
        "fully_cleaned_transcriptions = {\n",
        "    key: clean_full_text(value) for key, value in cleaned_transcriptions.items()\n",
        "}\n",
        "\n",
        "# Save the fully cleaned transcriptions to a JSON file\n",
        "with open('fully_cleaned_transcriptions.json', 'w', encoding='utf-8') as f:\n",
        "    json.dump(fully_cleaned_transcriptions, f, ensure_ascii=False, indent=4)\n",
        "\n",
        "fully_cleaned_transcriptions\n"
      ]
    },
    {
      "cell_type": "markdown",
      "metadata": {
        "id": "i2ywrmsMP_EF"
      },
      "source": [
        "## Extract Keywords from Each Fable Using LDA"
      ]
    },
    {
      "cell_type": "code",
      "execution_count": 7,
      "metadata": {
        "ExecuteTime": {
          "end_time": "2025-06-01T20:19:10.984557Z",
          "start_time": "2025-06-01T20:19:03.535803Z"
        },
        "colab": {
          "base_uri": "https://localhost:8080/"
        },
        "id": "-xFpnt0A0Ub7",
        "outputId": "52cb675d-40be-4d2a-f1bb-a24d608f3880"
      },
      "outputs": [
        {
          "output_type": "stream",
          "name": "stdout",
          "text": [
            "Fable: fable_01\n",
            "['lobo', 'templo', 'cordero', 'si', 'ser', 'dios', 'perecer', 'perseguido', 'prefiero', 'refugiarse', 'remedio', 'replicó', 'sacrificados', 'adentro', 'tener', 'vale', 'vamos', 'víctima', 'sacrificador', 'decidió']\n",
            "Fable: fable_04\n",
            "['lobo', 'hueso', 'paga', 'pidió', 'garganta', 'boca', 'cabeza', 'grulla', 'todas', 'suficiente', 'pues', 'sacando', 'oye', 'pagaría', 'si', 'nunca', 'mucha', 'malvados', 'partes', 'sano']\n",
            "Fable: fable_05\n",
            "['cebada', 'caballo', 'lobo', 'preferido', 'siguió', 'sino', 'sembrado', 'si', 'pasaba', 'hallado', 'parezca', 'ruido', 'oídos', 'mejor', 'masticarla', 'malvado', 'lobos', 'rato', 'oír', 'estómago']\n",
            "Fable: fable_06\n",
            "['lobo', 'ley', 'asno', 'partes', 'tener', 'vez', 'repártelo', 'si', 'legislar', 'orejas', 'ordenando', 'manera', 'sé', 'magnífica', 'lobos', 'llévalo', 'llegas', 'leyes', 'moviendo', 'poder']\n",
            "Fable: fable_14\n",
            "['lobo', 'cabrito', 'sino', 'ocasión', 'burlándose', 'comenzó', 'ampliamente', 'pasar', 'poderosos', 'protegido', 'replicó', 'encerrado', 'seguridad', 'serenamente', 'sitio', 'sé', 'valor', 'lugar', 'proveen', 'casa']\n",
            "Fable: fable_22\n",
            "['luego', 'huevos', 'almeja', 'perro', 'dijo', 'tragó', 'tomes', 'sintió', 'reflexionar', 'comer', 'redondo', 'veces', 'pensó', 'nunca', 'merecido', 'veo', 'mal', 'acostumbrados', 'trataba', 'asunto']\n",
            "Fable: fable_24\n",
            "['reflejo', 'río', 'ajeno', 'perro', 'propio', 'trozo', 'pedazo', 'carne', 'hocico', 'agua', 'verdadero', 'existía', 'quedó', 'nunca', 'adueñarse', 'mayor', 'supuesto', 'puedes', 'llevaba', 'codices']\n",
            "Fable: fable_25\n",
            "['carnicero', 'perro', 'huir', 'amigo', 'carnicería', 'accidente', 'mirarte', 'notando', 'ocupado', 'oye', 'pensar', 'cogió', 'poder', 'salió', 'suceda', 'trozo', 'viéndole', 'exclamó', 'penetró', 'carne']\n",
            "Fable: fable_26\n",
            "['campanilla', 'perro', 'mayores', 'oculta', 'perra', 'plaza', 'presencia', 'presumes', 'presumir', 'puso', 'pública', 'razón', 'sabia', 'sino', 'sonando', 'sé', 'sólo', 'maldad', 'morder', 'mismo']\n",
            "Fable: fable_27\n",
            "['perro', 'león', 'dijo', 'afrontar', 'persecución', 'perseguía', 'perseguías', 'primero', 'retrocedió', 'rugiendo', 'rápidamente', 'siempre', 'siquiera', 'soportas', 'surgidos', 'vio', 'volvió', 'partió', 'camino', 'encontró']\n"
          ]
        },
        {
          "output_type": "stream",
          "name": "stderr",
          "text": [
            "[nltk_data] Downloading package punkt to /root/nltk_data...\n",
            "[nltk_data]   Package punkt is already up-to-date!\n"
          ]
        }
      ],
      "source": [
        "#Extract key words from each fable using the LDA algorithm.\n",
        "#Assume each fable has only one topic, and extract 20 keywords per topic\n",
        "\n",
        "import nltk\n",
        "import gensim\n",
        "from gensim import corpora\n",
        "from gensim.models import CoherenceModel\n",
        "from nltk.tokenize import word_tokenize\n",
        "\n",
        "# Download required tokenizer\n",
        "nltk.download('punkt')\n",
        "\n",
        "# Tokenize each cleaned transcription\n",
        "def tokenize_text(text):\n",
        "    return word_tokenize(text)\n",
        "\n",
        "# Tokenize all transcriptions\n",
        "tokenized_transcriptions = {\n",
        "    key: tokenize_text(value) for key, value in fully_cleaned_transcriptions.items()\n",
        "}\n",
        "\n",
        "# Dictionary to store keywords per fable\n",
        "keywords_by_fable = {}\n",
        "\n",
        "for name, tokens in tokenized_transcriptions.items():\n",
        "    # Create dictionary and corpus for a single fable\n",
        "    dct = corpora.Dictionary([tokens])\n",
        "    corpus = [dct.doc2bow(tokens)]\n",
        "\n",
        "    # Apply LDA assuming a single topic\n",
        "    lda = gensim.models.ldamodel.LdaModel(\n",
        "        corpus=corpus,\n",
        "        id2word=dct,\n",
        "        num_topics=1,\n",
        "        passes=10,\n",
        "        alpha=0.6,\n",
        "        eta=0.2\n",
        "    )\n",
        "\n",
        "    # Extract top 20 keywords\n",
        "    topic = lda.show_topics(num_topics=1, num_words=20, formatted=False)\n",
        "    keywords = [word for word, _ in topic[0][1]]\n",
        "\n",
        "    # Store results\n",
        "    keywords_by_fable[name] = keywords\n",
        "\n",
        "    print(f\"Fable: {name}\")\n",
        "    print(keywords)\n"
      ]
    },
    {
      "cell_type": "markdown",
      "metadata": {
        "id": "Blrrs1sWwkSx"
      },
      "source": [
        "## Generate Fable Summaries and Subtopics with GPT\n"
      ]
    },
    {
      "cell_type": "code",
      "execution_count": 8,
      "metadata": {
        "colab": {
          "base_uri": "https://localhost:8080/"
        },
        "id": "Q9UkVPxM0Xii",
        "outputId": "28389ef0-a79f-4c02-e135-f93615296575"
      },
      "outputs": [
        {
          "output_type": "stream",
          "name": "stdout",
          "text": [
            "fable_01\n",
            "1. Resumen de la fábula: Un lobo decide no perseguir a un cordero indefenso y prefiero refugiarse en un templo en lugar de ser sacrificador.\n",
            "\n",
            "2. Subtema 1: Decisiones morales\n",
            "3. Subtema 2: La importancia de la empatía\n",
            "4. Subtema 3: El valor de la bondad\n",
            "----------------------------------------------------------------------------------------------------\n",
            "fable_04\n",
            "1. Resumen de la fábula: El lobo pidió a la grulla que sacara un hueso atascado en su garganta, prometiendo una recompensa.\n",
            "2. Subtema 1: La importancia de ser honesto en las promesas.\n",
            "3. Subtema 2: La astucia de los personajes en las fábulas.\n",
            "4. Subtema 3: La lección de confiar en las habilidades de los demás.\n",
            "----------------------------------------------------------------------------------------------------\n",
            "fable_05\n",
            "1. Resumen de la fábula: Un caballo preferido por un granjero es seguido por lobos malvados, pero aprende a no confiar en ellos.\n",
            "2. Subtema 1: Confianza en extraños\n",
            "3. Subtema 2: Valorar la amistad verdadera\n",
            "4. Subtema 3: Ser precavido ante las malas intenciones\n",
            "----------------------------------------------------------------------------------------------------\n",
            "fable_06\n",
            "1. Resumen de la fábula: El lobo y el asno deciden legislar sobre la manera de repartirse las partes de su presa.\n",
            "2. Subtema 1: Distribución justa de recursos.\n",
            "3. Subtema 2: El poder de la ley y el orden.\n",
            "4. Subtema 3: La importancia de trabajar en equipo.\n",
            "----------------------------------------------------------------------------------------------------\n",
            "fable_14\n",
            "1. Resumen de la fábula: Un lobo burlándose de un cabrito protegido en su casa, le replica que no sabe el valor de la seguridad.\n",
            "\n",
            "2. Subtema 1: Burlarse de los débiles.\n",
            "3. Subtema 2: La importancia de la seguridad.\n",
            "4. Subtema 3: La valentía en situaciones de peligro.\n",
            "----------------------------------------------------------------------------------------------------\n",
            "fable_22\n",
            "1. Resumen de la fábula: Un perro reflexionó sobre la comida que tragó y aprendió a no tomar lo que no le pertenece.\n",
            "2. Subtema 1: Aprendizaje de la reflexión\n",
            "3. Subtema 2: Consecuencias de la glotonería\n",
            "4. Subtema 3: Valoración del esfuerzo y el trabajo\n",
            "----------------------------------------------------------------------------------------------------\n",
            "fable_24\n",
            "1. Resumen de la fábula: Un perro se ve reflejado en el agua y cree que el trozo de carne que llevaba en su hocico es su propio reflejo.\n",
            "2. Subtema 1: La importancia de conocerse a uno mismo.\n",
            "3. Subtema 2: La tentación de adueñarse de lo ajeno.\n",
            "4. Subtema 3: La verdad detrás de las apariencias.\n",
            "----------------------------------------------------------------------------------------------------\n",
            "fable_25\n",
            "1. Resumen de la fábula: Un perro huye de la carnicería de su amigo para evitar un accidente, demostrando el poder de la amistad.\n",
            "2. Subtema 1: Amistad y lealtad\n",
            "3. Subtema 2: Consecuencias de nuestras acciones\n",
            "4. Subtema 3: Sabiduría y precaución\n",
            "----------------------------------------------------------------------------------------------------\n",
            "fable_26\n",
            "1. Resumen de la fábula: La sabiduría de la campanilla revela que la maldad se oculta entre los que presumen de ser mayores.\n",
            "2. Subtema 1: Presunción y humildad\n",
            "3. Subtema 2: La importancia de la razón\n",
            "4. Subtema 3: La verdadera presencia de la bondad\n",
            "----------------------------------------------------------------------------------------------------\n",
            "fable_27\n",
            "1. Resumen de la fábula: Un perro afronta la persecución de un león, pero al final logra escapar al retroceder rápidamente.\n",
            "2. Subtema 1: Superación del miedo\n",
            "3. Subtema 2: El valor de la astucia\n",
            "4. Subtema 3: La importancia de saber cuándo retroceder\n",
            "----------------------------------------------------------------------------------------------------\n"
          ]
        }
      ],
      "source": [
        "# Generate summaries and subtopics from extracted keywords using GPT\n",
        "\n",
        "def generate_summary_and_subtopics(keywords, model=\"gpt-3.5-turbo\"):\n",
        "    \"\"\"\n",
        "    Uses an OpenAI language model to generate a short summary and\n",
        "    three subtopics based on a list of Spanish keywords from a fable.\n",
        "\n",
        "    Args:\n",
        "        keywords (list of str): List of keywords from the fable.\n",
        "        model (str): OpenAI model name.\n",
        "\n",
        "    Returns:\n",
        "        str: Summary and subtopics in structured text format.\n",
        "    \"\"\"\n",
        "\n",
        "    # Prompt is in Spanish because the input data (fables) is in Spanish.\n",
        "    # English translation:\n",
        "    # \"I have the following list of keywords extracted from a fable.\n",
        "    # Write a short sentence (max 25 words) summarizing the central message of a fable based on these words.\n",
        "    # Do not begin with 'In a fable' or similar phrases.\n",
        "    # Generate three possible subtopics (1–5 words each) that could be developed from these keywords.\n",
        "    # Each subtopic should be clear and different.\n",
        "    # Format:\n",
        "    # 1. Summary of the fable: <summary>\n",
        "    # 2. Subtopic 1: <subtopic>\n",
        "    # 3. Subtopic 2: <subtopic>\n",
        "    # 4. Subtopic 3: <subtopic>\"\n",
        "\n",
        "    prompt = f\"\"\"\n",
        "Tengo la siguiente lista de palabras clave extraídas de una fábula:\n",
        "{', '.join(keywords)}.\n",
        "\n",
        "Redacta una oración breve (máximo 25 palabras) que resuma el mensaje central de una fábula basada en estas palabras. No comiences con \"En una fábula\" ni frases similares.\n",
        "\n",
        "Genera tres posibles subtemas (de 1 a 5 palabras) que podrían desarrollarse a partir de esas palabras clave. Cada subtema debe ser claro y diferente.\n",
        "\n",
        "Responde tal cual en el formato:\n",
        "1. Resumen de la fábula: <Resumen>\n",
        "2. Subtema 1: <Subtema>\n",
        "3. Subtema 2: <Subtema>\n",
        "4. Subtema 3: <Subtema>\n",
        "\"\"\"\n",
        "\n",
        "    response = client.chat.completions.create(\n",
        "        model=model,\n",
        "        messages=[{\"role\": \"user\", \"content\": prompt}],\n",
        "        temperature=0.7\n",
        "    )\n",
        "    return response.choices[0].message.content\n",
        "\n",
        "\n",
        "# Dictionary to store GPT-generated summaries and subtopics per fable\n",
        "fable_summaries = {}\n",
        "\n",
        "for name, keywords in keywords_by_fable.items():\n",
        "    print(name)\n",
        "    result = generate_summary_and_subtopics(keywords)\n",
        "    fable_summaries[name] = result\n",
        "    print(result)\n",
        "    print(\"-\" * 100)\n"
      ]
    },
    {
      "cell_type": "markdown",
      "metadata": {
        "id": "Kx-dZSFJz9cK"
      },
      "source": [
        "## Project Reflections and Lessons Learned\n"
      ]
    },
    {
      "cell_type": "markdown",
      "metadata": {
        "id": "3w3usdaC0BCj"
      },
      "source": [
        "This project provided valuable experience in converting audio to text, enabling automated processing and analysis of spoken content. One of the main challenges was designing an effective prompt for the LLM, as it required precise and detailed instructions to generate structured and relevant output. We learned that prompt quality plays a critical role in the usefulness of language model responses.\n",
        "\n",
        "Additionally, we discovered that audio file formats significantly affect tool compatibility and performance—some libraries (e.g., SpeechRecognition) work best with specific formats like WAV, and format conversions can be resource-intensive.\n",
        "\n",
        "Text cleaning proved essential to improve the relevance of topic modeling and summarization. However, we also noted that excessive cleaning can lead to loss of important context, especially in short texts.\n",
        "\n",
        "Overall, this was a strong exercise in applying natural language processing techniques to non-textual sources and leveraging large language models for summarization and topic extraction."
      ]
    }
  ],
  "metadata": {
    "colab": {
      "collapsed_sections": [
        "1BtP-Sk0DT-M",
        "6uYgtCvvJSmq",
        "NM0D83j8EWiN",
        "6PKaB_Ge0Shc",
        "i2ywrmsMP_EF",
        "Blrrs1sWwkSx",
        "Kx-dZSFJz9cK"
      ],
      "provenance": []
    },
    "kernelspec": {
      "display_name": "Python 3 (ipykernel)",
      "language": "python",
      "name": "python3"
    },
    "language_info": {
      "name": "python"
    }
  },
  "nbformat": 4,
  "nbformat_minor": 0
}
